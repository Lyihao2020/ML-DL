{
 "cells": [
  {
   "cell_type": "markdown",
   "source": [
    "# 第二讲：Python基础二"
   ],
   "metadata": {
    "collapsed": false
   },
   "id": "891cf0d02166c782"
  },
  {
   "cell_type": "markdown",
   "source": [
    "## 字符编码\n",
    "\n",
    "我们已经讲过了，字符串也是一种数据类型，但是，字符串比较特殊的是还有一个编码问题。\n",
    "\n",
    "因为计算机只能处理数字，如果要处理文本，就必须先把文本转换为数字才能处理。最早的计算机在设计时采用8个比特（bit）作为一个字节（byte），所以，一个字节能表示的最大的整数就是255（二进制11111111=十进制255），如果要表示更大的整数，就必须用更多的字节。比如两个字节可以表示的最大整数是65535，4个字节可以表示的最大整数是4294967295。\n",
    "\n",
    "由于计算机是美国人发明的，因此，最早只有127个字符被编码到计算机里，也就是大小写英文字母、数字和一些符号，这个编码表被称为ASCII编码，比如大写字母A的编码是65，小写字母z的编码是122。\n",
    "\n",
    "但是要处理中文显然一个字节是不够的，至少需要两个字节，而且还不能和ASCII编码冲突，所以，中国制定了GB2312编码，用来把中文编进去。\n",
    "\n",
    "你可以想得到的是，全世界有上百种语言，日本把日文编到Shift_JIS里，韩国把韩文编到Euc-kr里，各国有各国的标准，就会不可避免地出现冲突，结果就是，在多语言混合的文本中，显示出来会有乱码。\n",
    "\n",
    "因此，Unicode字符集应运而生。Unicode把所有语言都统一到一套编码里，这样就不会再有乱码问题了。\n",
    "\n",
    "Unicode标准也在不断发展，但最常用的是UCS-16编码，用两个字节表示一个字符（如果要用到非常偏僻的字符，就需要4个字节）。现代操作系统和大多数编程语言都直接支持Unicode。\n",
    "\n",
    "现在，捋一捋ASCII编码和Unicode编码的区别：ASCII编码是1个字节，而Unicode编码通常是2个字节。\n",
    "\n",
    "字母A用ASCII编码是十进制的65，二进制的01000001；\n",
    "\n",
    "字符0用ASCII编码是十进制的48，二进制的00110000，注意字符'0'和整数0是不同的；\n",
    "\n",
    "汉字中已经超出了ASCII编码的范围，用Unicode编码是十进制的20013，二进制的01001110 00101101。\n",
    "\n",
    "你可以猜测，如果把ASCII编码的A用Unicode编码，只需要在前面补0就可以，因此，A的Unicode编码是00000000 01000001。\n",
    "\n",
    "新的问题又出现了：如果统一成Unicode编码，乱码问题从此消失了。但是，如果你写的文本基本上全部是英文的话，用Unicode编码比ASCII编码需要多一倍的存储空间，在存储和传输上就十分不划算。\n",
    "\n",
    "所以，本着节约的精神，又出现了把Unicode编码转化为“可变长编码”的UTF-8编码。UTF-8编码把一个Unicode字符根据不同的数字大小编码成1-6个字节，常用的英文字母被编码成1个字节，汉字通常是3个字节，只有很生僻的字符才会被编码成4-6个字节。如果你要传输的文本包含大量英文字符，用UTF-8编码就能节省空间。\n",
    "\n",
    "UTF-8编码有一个额外的好处，就是ASCII编码实际上可以被看成是UTF-8编码的一部分，所以，大量只支持ASCII编码的历史遗留软件可以在UTF-8编码下继续工作。\n",
    "\n",
    "搞清楚了ASCII、Unicode和UTF-8的关系，我们就可以总结一下现在计算机系统通用的字符编码工作方式：\n",
    "\n",
    "在计算机内存中，统一使用Unicode编码，当需要保存到硬盘或者需要传输的时候，就转换为UTF-8编码。\n",
    "\n",
    "用记事本编辑的时候，从文件读取的UTF-8字符被转换为Unicode字符到内存里，编辑完成后，保存的时候再把Unicode转换为UTF-8保存到文件。\n",
    "\n",
    "浏览网页的时候，服务器会把动态生成的Unicode内容转换为UTF-8再传输到浏览器。所以你看到很多网页的源码上会有类似<meta charset=\"UTF-8\" />的信息，表示该网页正是用的UTF-8编码。\n",
    "\n"
   ],
   "metadata": {
    "collapsed": false
   },
   "id": "2ae35648792522d7"
  },
  {
   "cell_type": "markdown",
   "source": [
    "## Python的字符串\n",
    "\n",
    "在最新的Python 3版本中，字符串是以Unicode编码的，也就是说，Python的字符串支持多语言，例如："
   ],
   "metadata": {
    "collapsed": false
   },
   "id": "4e2d659c8b68e9a4"
  },
  {
   "cell_type": "code",
   "execution_count": null,
   "outputs": [],
   "source": [
    "print('包含中文的str')"
   ],
   "metadata": {
    "collapsed": false
   },
   "id": "4056185568b45f5e"
  },
  {
   "cell_type": "markdown",
   "source": [
    "对于单个字符的编码，Python提供了ord()函数获取字符的整数表示，chr()函数把编码转换为对应的字符："
   ],
   "metadata": {
    "collapsed": false
   },
   "id": "b9f577e1a03ab92"
  },
  {
   "cell_type": "code",
   "execution_count": 1,
   "outputs": [
    {
     "name": "stdout",
     "output_type": "stream",
     "text": [
      "65\n",
      "20013\n",
      "B\n",
      "文\n"
     ]
    }
   ],
   "source": [
    "print(ord('A'))\n",
    "print(ord('中'))\n",
    "print(chr(66))\n",
    "print(chr(25991))"
   ],
   "metadata": {
    "collapsed": false,
    "ExecuteTime": {
     "end_time": "2023-11-14T04:25:32.856651Z",
     "start_time": "2023-11-14T04:25:32.723170Z"
    }
   },
   "id": "5e37406aacba1c60"
  },
  {
   "cell_type": "markdown",
   "source": [
    "如果知道字符的整数编码，还可以用十六进制这么写str:"
   ],
   "metadata": {
    "collapsed": false
   },
   "id": "76bf808a6d3e09a6"
  },
  {
   "cell_type": "code",
   "execution_count": 2,
   "outputs": [
    {
     "name": "stdout",
     "output_type": "stream",
     "text": [
      "中文\n"
     ]
    }
   ],
   "source": [
    "print('\\u4e2d\\u6587')"
   ],
   "metadata": {
    "collapsed": false,
    "ExecuteTime": {
     "end_time": "2023-11-14T04:26:13.621114Z",
     "start_time": "2023-11-14T04:26:13.610672Z"
    }
   },
   "id": "e3f32547028bfc29"
  },
  {
   "cell_type": "markdown",
   "source": [
    "两种写法完全是等价的。\n",
    "\n",
    "由于Python的字符串类型是str，在内存中以Unicode表示，一个字符对应若干个字节。如果要在网络上传输，或者保存到磁盘上，就需要把str变为以字节为单位的bytes。\n",
    "\n",
    "Python对bytes类型的数据用带b前缀的单引号或双引号表示："
   ],
   "metadata": {
    "collapsed": false
   },
   "id": "114cb96922533883"
  },
  {
   "cell_type": "code",
   "execution_count": null,
   "outputs": [],
   "source": [
    "x = b'ABC'"
   ],
   "metadata": {
    "collapsed": false
   },
   "id": "d5d152b2813549d5"
  },
  {
   "cell_type": "markdown",
   "source": [
    "要注意区分'ABC'和b'ABC'，前者是str，后者虽然内容显示得和前者一样，但bytes的每个字符都只占用一个字节。\n",
    "\n",
    "以Unicode表示的str通过encode()方法可以编码为指定的bytes，例如："
   ],
   "metadata": {
    "collapsed": false
   },
   "id": "2673d52e4c56289f"
  },
  {
   "cell_type": "code",
   "execution_count": 5,
   "outputs": [
    {
     "name": "stdout",
     "output_type": "stream",
     "text": [
      "b'ABC'\n",
      "b'\\xe4\\xb8\\xad\\xe6\\x96\\x87'\n"
     ]
    }
   ],
   "source": [
    "print('ABC'.encode('ascii'))\n",
    "print('中文'.encode('utf-8'))\n",
    "# print('中文'.encode('ascii'))"
   ],
   "metadata": {
    "collapsed": false,
    "ExecuteTime": {
     "end_time": "2023-11-14T04:28:41.919919Z",
     "start_time": "2023-11-14T04:28:41.910051Z"
    }
   },
   "id": "f1766e8a09cf3e98"
  },
  {
   "cell_type": "markdown",
   "source": [
    "纯英文的str可以用ASCII编码为bytes，内容是一样的，含有中文的str可以用UTF-8编码为bytes。含有中文的str无法用ASCII编码，因为中文编码的范围超过了ASCII编码的范围，Python会报错。\n",
    "\n",
    "在bytes中，无法显示为ASCII字符的字节，用\\x##显示。\n",
    "\n",
    "反过来，如果我们从网络或磁盘上读取了字节流，那么读到的数据就是bytes。要把bytes变为str，就需要用decode()方法：\n"
   ],
   "metadata": {
    "collapsed": false
   },
   "id": "516fc8b0128a3a84"
  },
  {
   "cell_type": "code",
   "execution_count": 6,
   "outputs": [
    {
     "name": "stdout",
     "output_type": "stream",
     "text": [
      "ABC\n",
      "中文\n"
     ]
    }
   ],
   "source": [
    "print(b'ABC'.decode('ascii'))\n",
    "print(b'\\xe4\\xb8\\xad\\xe6\\x96\\x87'.decode('utf-8'))"
   ],
   "metadata": {
    "collapsed": false,
    "ExecuteTime": {
     "end_time": "2023-11-14T04:32:34.796410Z",
     "start_time": "2023-11-14T04:32:34.779373Z"
    }
   },
   "id": "9343e2de8cfa11c8"
  },
  {
   "cell_type": "markdown",
   "source": [
    "如果bytes中包含无法解码的字节，decode()方法会报错："
   ],
   "metadata": {
    "collapsed": false
   },
   "id": "3c6e9f260ac86433"
  },
  {
   "cell_type": "code",
   "execution_count": 7,
   "outputs": [
    {
     "ename": "UnicodeDecodeError",
     "evalue": "'utf-8' codec can't decode byte 0xff in position 3: invalid start byte",
     "output_type": "error",
     "traceback": [
      "\u001B[0;31m---------------------------------------------------------------------------\u001B[0m",
      "\u001B[0;31mUnicodeDecodeError\u001B[0m                        Traceback (most recent call last)",
      "Input \u001B[0;32mIn [7]\u001B[0m, in \u001B[0;36m<cell line: 1>\u001B[0;34m()\u001B[0m\n\u001B[0;32m----> 1\u001B[0m \u001B[38;5;28mprint\u001B[39m(\u001B[38;5;124;43mb\u001B[39;49m\u001B[38;5;124;43m'\u001B[39;49m\u001B[38;5;130;43;01m\\xe4\u001B[39;49;00m\u001B[38;5;130;43;01m\\xb8\u001B[39;49;00m\u001B[38;5;130;43;01m\\xad\u001B[39;49;00m\u001B[38;5;130;43;01m\\xff\u001B[39;49;00m\u001B[38;5;124;43m'\u001B[39;49m\u001B[38;5;241;43m.\u001B[39;49m\u001B[43mdecode\u001B[49m\u001B[43m(\u001B[49m\u001B[38;5;124;43m'\u001B[39;49m\u001B[38;5;124;43mutf-8\u001B[39;49m\u001B[38;5;124;43m'\u001B[39;49m\u001B[43m)\u001B[49m)\n",
      "\u001B[0;31mUnicodeDecodeError\u001B[0m: 'utf-8' codec can't decode byte 0xff in position 3: invalid start byte"
     ]
    }
   ],
   "source": [
    "print(b'\\xe4\\xb8\\xad\\xff'.decode('utf-8'))"
   ],
   "metadata": {
    "collapsed": false,
    "ExecuteTime": {
     "end_time": "2023-11-14T04:33:01.367046Z",
     "start_time": "2023-11-14T04:33:01.356499Z"
    }
   },
   "id": "8829c9e4fd6f783c"
  },
  {
   "cell_type": "markdown",
   "source": [
    "如果bytes中只有一小部分无效的字节，可以传入errors='ignore'忽略错误的字节："
   ],
   "metadata": {
    "collapsed": false
   },
   "id": "e9ba0733e29e47f"
  },
  {
   "cell_type": "code",
   "execution_count": 8,
   "outputs": [
    {
     "name": "stdout",
     "output_type": "stream",
     "text": [
      "中\n"
     ]
    }
   ],
   "source": [
    "print(b'\\xe4\\xb8\\xad\\xff'.decode('utf-8', errors='ignore'))"
   ],
   "metadata": {
    "collapsed": false,
    "ExecuteTime": {
     "end_time": "2023-11-14T04:34:20.086168Z",
     "start_time": "2023-11-14T04:34:20.075670Z"
    }
   },
   "id": "835af724954b555a"
  },
  {
   "cell_type": "markdown",
   "source": [
    "要计算str包含多少个字符，可以用len()函数："
   ],
   "metadata": {
    "collapsed": false
   },
   "id": "ef730cf4f820ac3f"
  },
  {
   "cell_type": "code",
   "execution_count": 9,
   "outputs": [
    {
     "name": "stdout",
     "output_type": "stream",
     "text": [
      "3\n",
      "2\n"
     ]
    }
   ],
   "source": [
    "print(len('ABC'))\n",
    "print(len('中文'))"
   ],
   "metadata": {
    "collapsed": false,
    "ExecuteTime": {
     "end_time": "2023-11-14T04:34:55.764748Z",
     "start_time": "2023-11-14T04:34:55.753042Z"
    }
   },
   "id": "37a5df64e251b0bc"
  },
  {
   "cell_type": "markdown",
   "source": [
    "len()函数计算的是str的字符数，如果换成bytes，len()函数就计算字节数："
   ],
   "metadata": {
    "collapsed": false
   },
   "id": "fc634415a7defb6c"
  },
  {
   "cell_type": "code",
   "execution_count": 10,
   "outputs": [
    {
     "name": "stdout",
     "output_type": "stream",
     "text": [
      "3\n",
      "6\n",
      "6\n"
     ]
    }
   ],
   "source": [
    "print(len(b'ABC'))\n",
    "print(len(b'\\xe4\\xb8\\xad\\xe6\\x96\\x87'))\n",
    "print(len('中文'.encode('utf-8')))"
   ],
   "metadata": {
    "collapsed": false,
    "ExecuteTime": {
     "end_time": "2023-11-14T04:36:26.373727Z",
     "start_time": "2023-11-14T04:36:26.364139Z"
    }
   },
   "id": "e1fd337f855c97d0"
  },
  {
   "cell_type": "markdown",
   "source": [
    "可见，1个中文字符经过UTF-8编码后通常会占用3个字节，而1个英文字符只占用1个字节。\n",
    "\n",
    "在操作字符串时，我们经常遇到str和bytes的互相转换。为了避免乱码问题，应当始终坚持使用UTF-8编码对str和bytes进行转换。\n",
    "\n",
    "由于Python源代码也是一个文本文件，所以，当你的源代码中包含中文的时候，在保存源代码时，就需要务必指定保存为UTF-8编码。当Python解释器读取源代码时，为了让它按UTF-8编码读取，我们通常在文件开头写上这两行：\n",
    "\n",
    "#!/usr/bin/env python3\n",
    "# -*- coding: utf-8 -*-\n",
    "\n",
    "第一行注释是为了告诉Linux/OS X系统，这是一个Python可执行程序，Windows系统会忽略这个注释；\n",
    "\n",
    "第二行注释是为了告诉Python解释器，按照UTF-8编码读取源代码，否则，你在源代码中写的中文输出可能会有乱码。\n",
    "\n",
    "申明了UTF-8编码并不意味着你的.py文件就是UTF-8编码的，必须并且要确保**文本编辑器正在使用UTF-8 without BOM编码**\n",
    "\n",
    "如果.py文件本身使用UTF-8编码，并且也申明了# -*- coding: utf-8 -*-，打开命令提示符测试就可以正常显示中文"
   ],
   "metadata": {
    "collapsed": false
   },
   "id": "7ca08feb411ffa8d"
  },
  {
   "cell_type": "markdown",
   "source": [
    "### 格式化\n",
    "\n",
    "最后一个常见的问题是如何输出格式化的字符串。我们经常会输出类似'亲爱的xxx你好！你xx月的话费是xx，余额是xx'之类的字符串，而xxx的内容都是根据变量变化的，所以，需要一种简便的格式化字符串的方式。\n",
    "\n",
    "在Python中，采用的格式化方式和C语言是一致的，用%实现，举例如下：\n"
   ],
   "metadata": {
    "collapsed": false
   },
   "id": "60f36cb353628277"
  },
  {
   "cell_type": "code",
   "execution_count": null,
   "outputs": [],
   "source": [
    "print('Hello, %s' % 'world')\n",
    "print('Hi, %s, you have $%d.' % ('Michael', 1000000))"
   ],
   "metadata": {
    "collapsed": false
   },
   "id": "8fd10e32c1970d75"
  },
  {
   "cell_type": "markdown",
   "source": [
    "你可能猜到了，%运算符就是用来格式化字符串的。在字符串内部，%s表示用字符串替换，%d表示用整数替换，有几个%?占位符，后面就跟几个变量或者值，顺序要对应好。如果只有一个%?，括号可以省略。\n",
    "\n",
    "常见的占位符有：\n",
    "%d 整数\n",
    "%f 浮点数\n",
    "%s 字符串\n",
    "%x 十六进制整数\n",
    "\n",
    "其中，格式化整数和浮点数还可以指定是否补0和整数与小数的位数："
   ],
   "metadata": {
    "collapsed": false
   },
   "id": "6952a30d4981e775"
  },
  {
   "cell_type": "code",
   "execution_count": 11,
   "outputs": [
    {
     "name": "stdout",
     "output_type": "stream",
     "text": [
      " 3-01\n",
      "3.14\n"
     ]
    }
   ],
   "source": [
    "print('%2d-%02d' % (3, 1))\n",
    "print('%.2f' % 3.1415926)"
   ],
   "metadata": {
    "collapsed": false,
    "ExecuteTime": {
     "end_time": "2023-11-14T04:41:36.458019Z",
     "start_time": "2023-11-14T04:41:36.446896Z"
    }
   },
   "id": "17070c708b9e6135"
  },
  {
   "cell_type": "markdown",
   "source": [
    "如果你不太确定应该用什么，%s永远起作用，它会把任何数据类型转换为字符串："
   ],
   "metadata": {
    "collapsed": false
   },
   "id": "cf7f82a42f76230d"
  },
  {
   "cell_type": "code",
   "execution_count": 12,
   "outputs": [
    {
     "name": "stdout",
     "output_type": "stream",
     "text": [
      "Age: 25. Gender: True\n"
     ]
    }
   ],
   "source": [
    "print('Age: %s. Gender: %s' % (25, True))"
   ],
   "metadata": {
    "collapsed": false,
    "ExecuteTime": {
     "end_time": "2023-11-14T04:42:09.028056Z",
     "start_time": "2023-11-14T04:42:09.009427Z"
    }
   },
   "id": "4a7913dc5d7de1a0"
  },
  {
   "cell_type": "markdown",
   "source": [
    "有些时候，字符串里面的%是一个普通字符怎么办？这个时候就需要转义，用%%来表示一个%："
   ],
   "metadata": {
    "collapsed": false
   },
   "id": "dad0c8ac1ca140f7"
  },
  {
   "cell_type": "code",
   "execution_count": 13,
   "outputs": [
    {
     "name": "stdout",
     "output_type": "stream",
     "text": [
      "growth rate: 7 %\n"
     ]
    }
   ],
   "source": [
    "print('growth rate: %d %%' % 7)"
   ],
   "metadata": {
    "collapsed": false,
    "ExecuteTime": {
     "end_time": "2023-11-14T04:42:52.296403Z",
     "start_time": "2023-11-14T04:42:52.282Z"
    }
   },
   "id": "d21b2376fdfc2d3b"
  },
  {
   "cell_type": "markdown",
   "source": [
    "### format()\n",
    "\n",
    "另一种格式化字符串的方法是使用字符串的format()方法，它会用传入的参数依次替换字符串内的占位符{0}、{1}……，不过这种方式写起来比%要麻烦得多：\n"
   ],
   "metadata": {
    "collapsed": false
   },
   "id": "872f0d7a35466bbf"
  },
  {
   "cell_type": "code",
   "execution_count": 14,
   "outputs": [
    {
     "name": "stdout",
     "output_type": "stream",
     "text": [
      "Hello, 小明, 成绩提升了 17.1%\n"
     ]
    }
   ],
   "source": [
    "print('Hello, {0}, 成绩提升了 {1:.1f}%'.format('小明', 17.125))"
   ],
   "metadata": {
    "collapsed": false,
    "ExecuteTime": {
     "end_time": "2023-11-14T04:44:00.505934Z",
     "start_time": "2023-11-14T04:44:00.493456Z"
    }
   },
   "id": "5824f46e3dbdbc09"
  },
  {
   "cell_type": "markdown",
   "source": [
    "### f-string\n",
    "\n",
    "最后一种格式化字符串的方法是使用以f开头的字符串，称之为f-string，它和普通字符串不同之处在于，字符串如果包含{xxx}，就会以对应的变量替换"
   ],
   "metadata": {
    "collapsed": false
   },
   "id": "2a5d04d629cb6ef7"
  },
  {
   "cell_type": "code",
   "execution_count": 15,
   "outputs": [
    {
     "name": "stdout",
     "output_type": "stream",
     "text": [
      "The area of a circle with radius 2.5 is 19.62\n"
     ]
    }
   ],
   "source": [
    "r = 2.5\n",
    "s = 3.14 * r ** 2\n",
    "print(f'The area of a circle with radius {r} is {s:.2f}')"
   ],
   "metadata": {
    "collapsed": false,
    "ExecuteTime": {
     "end_time": "2023-11-14T04:46:01.806906Z",
     "start_time": "2023-11-14T04:46:01.785379Z"
    }
   },
   "id": "10fa3c4fb9fdda21"
  },
  {
   "cell_type": "markdown",
   "source": [
    "上述代码中，{r}被变量r的值替换，{s:.2f}被变量s的值替换，并且:后面的.2f指定了格式化参数（即保留两位小数），因此，{s:.2f}的替换结果是19.62"
   ],
   "metadata": {
    "collapsed": false
   },
   "id": "450cd326f47df847"
  },
  {
   "cell_type": "markdown",
   "source": [
    "## list\n",
    "\n",
    "Python内置的一种数据类型是列表：list。list是一种有序的集合，可以随时添加和删除其中的元素。\n",
    "\n",
    "比如，列出班里所有同学的名字，就可以用一个list表示："
   ],
   "metadata": {
    "collapsed": false
   },
   "id": "e6adcd91474ad09e"
  },
  {
   "cell_type": "code",
   "execution_count": 17,
   "outputs": [
    {
     "name": "stdout",
     "output_type": "stream",
     "text": [
      "['Michael', 'Bob', 'Tracy']\n"
     ]
    }
   ],
   "source": [
    "classmates = ['Michael', 'Bob', 'Tracy']\n",
    "print(classmates)"
   ],
   "metadata": {
    "collapsed": false,
    "ExecuteTime": {
     "end_time": "2023-11-14T04:54:56.435047Z",
     "start_time": "2023-11-14T04:54:56.424971Z"
    }
   },
   "id": "f1c7f5722e3fc759"
  },
  {
   "cell_type": "markdown",
   "source": [
    "变量classmates就是一个list。用len()函数可以获得list元素的个数"
   ],
   "metadata": {
    "collapsed": false
   },
   "id": "a67274d3f14a829d"
  },
  {
   "cell_type": "code",
   "execution_count": 18,
   "outputs": [
    {
     "name": "stdout",
     "output_type": "stream",
     "text": [
      "3\n"
     ]
    }
   ],
   "source": [
    "print(len(classmates))"
   ],
   "metadata": {
    "collapsed": false,
    "ExecuteTime": {
     "end_time": "2023-11-14T04:54:58.921849Z",
     "start_time": "2023-11-14T04:54:58.902622Z"
    }
   },
   "id": "ae9a55cb5c399f60"
  },
  {
   "cell_type": "markdown",
   "source": [
    "用索引来访问list中每一个位置的元素，记得索引是从0开始的："
   ],
   "metadata": {
    "collapsed": false
   },
   "id": "4281784f6b6ed644"
  },
  {
   "cell_type": "code",
   "execution_count": 19,
   "outputs": [
    {
     "name": "stdout",
     "output_type": "stream",
     "text": [
      "Michael\n",
      "Bob\n",
      "Tracy\n"
     ]
    }
   ],
   "source": [
    "print(classmates[0])\n",
    "print(classmates[1])\n",
    "print(classmates[2])"
   ],
   "metadata": {
    "collapsed": false,
    "ExecuteTime": {
     "end_time": "2023-11-14T04:55:32.457974Z",
     "start_time": "2023-11-14T04:55:32.445399Z"
    }
   },
   "id": "89f26b8fc97a9b82"
  },
  {
   "cell_type": "markdown",
   "source": [
    "当索引超出了范围时，Python会报一个IndexError错误，所以，要确保索引不要越界，记得最后一个元素的索引是len(classmates) - 1。\n",
    "\n",
    "如果要取最后一个元素，除了计算索引位置外，还可以用-1做索引，直接获取最后一个元素："
   ],
   "metadata": {
    "collapsed": false
   },
   "id": "2adc3fa557fc1b86"
  },
  {
   "cell_type": "code",
   "execution_count": 20,
   "outputs": [
    {
     "name": "stdout",
     "output_type": "stream",
     "text": [
      "Tracy\n"
     ]
    }
   ],
   "source": [
    "print(classmates[-1])"
   ],
   "metadata": {
    "collapsed": false,
    "ExecuteTime": {
     "end_time": "2023-11-14T04:55:58.191202Z",
     "start_time": "2023-11-14T04:55:58.176189Z"
    }
   },
   "id": "97c01eee14a3b590"
  },
  {
   "cell_type": "code",
   "execution_count": 21,
   "outputs": [
    {
     "name": "stdout",
     "output_type": "stream",
     "text": [
      "Bob\n",
      "Michael\n"
     ]
    }
   ],
   "source": [
    "print(classmates[-2])\n",
    "print(classmates[-3])"
   ],
   "metadata": {
    "collapsed": false,
    "ExecuteTime": {
     "end_time": "2023-11-14T04:56:36.824865Z",
     "start_time": "2023-11-14T04:56:36.801107Z"
    }
   },
   "id": "3314daa825821b13"
  },
  {
   "cell_type": "markdown",
   "source": [
    "list是一个可变的有序表，所以，可以往list中追加元素到末尾："
   ],
   "metadata": {
    "collapsed": false
   },
   "id": "3d4fbb2472d92411"
  },
  {
   "cell_type": "code",
   "execution_count": 22,
   "outputs": [
    {
     "name": "stdout",
     "output_type": "stream",
     "text": [
      "['Michael', 'Bob', 'Tracy', 'Adam', 'Alex']\n"
     ]
    }
   ],
   "source": [
    "classmates.append('Adam')\n",
    "classmates.append('Alex')\n",
    "print(classmates)"
   ],
   "metadata": {
    "collapsed": false,
    "ExecuteTime": {
     "end_time": "2023-11-14T06:05:48.744706Z",
     "start_time": "2023-11-14T06:05:48.722757Z"
    }
   },
   "id": "8f8c9179938e5e61"
  },
  {
   "cell_type": "markdown",
   "source": [
    "也可以把元素插入到指定的位置，比如索引号为1的位置："
   ],
   "metadata": {
    "collapsed": false
   },
   "id": "7c5a86abbeba80e5"
  },
  {
   "cell_type": "code",
   "execution_count": 23,
   "outputs": [
    {
     "name": "stdout",
     "output_type": "stream",
     "text": [
      "['Michael', 'Jack', 'Bob', 'Tracy', 'Adam', 'Alex']\n"
     ]
    }
   ],
   "source": [
    "classmates.insert(1, 'Jack')\n",
    "print(classmates)"
   ],
   "metadata": {
    "collapsed": false,
    "ExecuteTime": {
     "end_time": "2023-11-14T06:06:34.466162Z",
     "start_time": "2023-11-14T06:06:34.451591Z"
    }
   },
   "id": "1c0440214719988c"
  },
  {
   "cell_type": "markdown",
   "source": [
    "要删除list末尾的元素，用pop()方法;\n",
    "要删除指定位置的元素，用pop(i)方法，其中i是索引位置;"
   ],
   "metadata": {
    "collapsed": false
   },
   "id": "1922689436d5cd71"
  },
  {
   "cell_type": "code",
   "execution_count": 25,
   "outputs": [
    {
     "name": "stdout",
     "output_type": "stream",
     "text": [
      "['Michael', 'Tracy']\n"
     ]
    }
   ],
   "source": [
    "classmates.pop()\n",
    "classmates.pop(1)\n",
    "print(classmates)"
   ],
   "metadata": {
    "collapsed": false,
    "ExecuteTime": {
     "end_time": "2023-11-14T06:07:21.760581Z",
     "start_time": "2023-11-14T06:07:21.747861Z"
    }
   },
   "id": "e2ced14c475fd5ae"
  },
  {
   "cell_type": "markdown",
   "source": [
    "要把某个元素替换成别的元素，可以直接赋值给对应的索引位置："
   ],
   "metadata": {
    "collapsed": false
   },
   "id": "52874539ba5f77cf"
  },
  {
   "cell_type": "code",
   "execution_count": 26,
   "outputs": [
    {
     "name": "stdout",
     "output_type": "stream",
     "text": [
      "['Michael', 'Sarah']\n"
     ]
    }
   ],
   "source": [
    "classmates[1] = 'Sarah'\n",
    "print(classmates)"
   ],
   "metadata": {
    "collapsed": false,
    "ExecuteTime": {
     "end_time": "2023-11-14T06:07:48.764235Z",
     "start_time": "2023-11-14T06:07:48.743848Z"
    }
   },
   "id": "d5734082ca029ada"
  },
  {
   "cell_type": "markdown",
   "source": [
    "list里面的元素的数据类型也可以不同，比如："
   ],
   "metadata": {
    "collapsed": false
   },
   "id": "9f695eb6731aac8c"
  },
  {
   "cell_type": "code",
   "execution_count": null,
   "outputs": [],
   "source": [
    "L = ['Apple', 123, True]"
   ],
   "metadata": {
    "collapsed": false
   },
   "id": "11f663e1176a0138"
  },
  {
   "cell_type": "markdown",
   "source": [
    "list元素也可以是另一个list，比如："
   ],
   "metadata": {
    "collapsed": false
   },
   "id": "ade85961c245035e"
  },
  {
   "cell_type": "code",
   "execution_count": 27,
   "outputs": [
    {
     "name": "stdout",
     "output_type": "stream",
     "text": [
      "4\n"
     ]
    }
   ],
   "source": [
    "s = ['python', 'java', ['asp', 'php'], 'scheme']\n",
    "# 要注意s只有4个元素，其中s[2]又是一个list，如果拆开写就更容易理解了\n",
    "# p = ['asp', 'php']\n",
    "# s = ['python', 'java', p, 'scheme']\n",
    "\n",
    "print(len(s))"
   ],
   "metadata": {
    "collapsed": false,
    "ExecuteTime": {
     "end_time": "2023-11-14T06:08:33.814155Z",
     "start_time": "2023-11-14T06:08:33.800897Z"
    }
   },
   "id": "867b897e54dc74b8"
  },
  {
   "cell_type": "markdown",
   "source": [
    "要拿到'php'可以写p[1]或者s[2][1]，因此s可以看成是一个二维数组，类似的还有三维、四维……数组，不过很少用到。\n",
    "\n",
    "如果一个list中一个元素也没有，就是一个空的list，它的长度为0："
   ],
   "metadata": {
    "collapsed": false
   },
   "id": "f378cfcbae06351a"
  },
  {
   "cell_type": "code",
   "execution_count": 28,
   "outputs": [
    {
     "name": "stdout",
     "output_type": "stream",
     "text": [
      "0\n"
     ]
    }
   ],
   "source": [
    "L = []\n",
    "print(len(L))"
   ],
   "metadata": {
    "collapsed": false,
    "ExecuteTime": {
     "end_time": "2023-11-14T06:09:58.272432Z",
     "start_time": "2023-11-14T06:09:58.244818Z"
    }
   },
   "id": "329fc24a5b827427"
  },
  {
   "cell_type": "markdown",
   "source": [
    "## tuple\n",
    "\n",
    "另一种有序列表叫元组：tuple。tuple和list非常类似，但是tuple一旦初始化就不能修改，比如同样是列出同学的名字："
   ],
   "metadata": {
    "collapsed": false
   },
   "id": "622e22764d81f6e7"
  },
  {
   "cell_type": "code",
   "execution_count": null,
   "outputs": [],
   "source": [
    "classmates = ('Michael', 'Bob', 'Tracy')"
   ],
   "metadata": {
    "collapsed": false
   },
   "id": "a665c5538843b3bb"
  },
  {
   "cell_type": "markdown",
   "source": [
    "现在，classmates这个tuple不能变了，它也没有append()，insert()这样的方法。其他获取元素的方法和list是一样的，你可以正常地使用classmates[0]，classmates[-1]，但不能赋值成另外的元素。\n",
    "\n",
    "不可变的tuple有什么意义？因为tuple不可变，所以代码更安全。如果可能，能用tuple代替list就尽量用tuple。\n",
    "\n",
    "tuple的陷阱：当你定义一个tuple时，在定义的时候，tuple的元素就必须被确定下来，比如："
   ],
   "metadata": {
    "collapsed": false
   },
   "id": "9e12540bee3596f2"
  },
  {
   "cell_type": "code",
   "execution_count": 30,
   "outputs": [
    {
     "data": {
      "text/plain": "(1, 2)"
     },
     "execution_count": 30,
     "metadata": {},
     "output_type": "execute_result"
    }
   ],
   "source": [
    "t = (1, 2)\n",
    "t"
   ],
   "metadata": {
    "collapsed": false,
    "ExecuteTime": {
     "end_time": "2023-11-14T06:11:10.633992Z",
     "start_time": "2023-11-14T06:11:10.629275Z"
    }
   },
   "id": "9a49b1bd0cb487c3"
  },
  {
   "cell_type": "markdown",
   "source": [
    "如果要定义一个空的tuple，可以写成()："
   ],
   "metadata": {
    "collapsed": false
   },
   "id": "894e814f893adc31"
  },
  {
   "cell_type": "code",
   "execution_count": 31,
   "outputs": [
    {
     "data": {
      "text/plain": "()"
     },
     "execution_count": 31,
     "metadata": {},
     "output_type": "execute_result"
    }
   ],
   "source": [
    "t = ()\n",
    "t"
   ],
   "metadata": {
    "collapsed": false,
    "ExecuteTime": {
     "end_time": "2023-11-14T06:11:27.226231Z",
     "start_time": "2023-11-14T06:11:27.210405Z"
    }
   },
   "id": "1ecd578557e543ed"
  },
  {
   "cell_type": "markdown",
   "source": [
    "但是，要定义一个只有1个元素的tuple，如果你这么定义："
   ],
   "metadata": {
    "collapsed": false
   },
   "id": "7b5b53ed273e579f"
  },
  {
   "cell_type": "code",
   "execution_count": 32,
   "outputs": [
    {
     "data": {
      "text/plain": "1"
     },
     "execution_count": 32,
     "metadata": {},
     "output_type": "execute_result"
    }
   ],
   "source": [
    "t = (1)\n",
    "t"
   ],
   "metadata": {
    "collapsed": false,
    "ExecuteTime": {
     "end_time": "2023-11-14T06:11:54.908079Z",
     "start_time": "2023-11-14T06:11:54.888329Z"
    }
   },
   "id": "b3c8b8c52c7ec45f"
  },
  {
   "cell_type": "markdown",
   "source": [
    "定义的不是tuple，是1这个数！这是因为括号()既可以表示tuple，又可以表示数学公式中的小括号，这就产生了歧义，因此，Python规定，这种情况下，按小括号进行计算，计算结果自然是1。\n",
    "\n",
    "**所以，只有1个元素的tuple定义时必须加一个逗号,来消除歧义：**"
   ],
   "metadata": {
    "collapsed": false
   },
   "id": "eee722546d29b4ca"
  },
  {
   "cell_type": "code",
   "execution_count": 33,
   "outputs": [
    {
     "data": {
      "text/plain": "(1,)"
     },
     "execution_count": 33,
     "metadata": {},
     "output_type": "execute_result"
    }
   ],
   "source": [
    "t = (1, )\n",
    "t"
   ],
   "metadata": {
    "collapsed": false,
    "ExecuteTime": {
     "end_time": "2023-11-14T06:12:51.645322Z",
     "start_time": "2023-11-14T06:12:51.628604Z"
    }
   },
   "id": "c4bb048a625870c5"
  },
  {
   "cell_type": "markdown",
   "source": [
    "Python在显示只有1个元素的tuple时，也会加一个逗号,，以免你误解成数学计算意义上的括号。\n",
    "\n",
    "最后来看一个“可变的”tuple："
   ],
   "metadata": {
    "collapsed": false
   },
   "id": "4d571fd47b0ec345"
  },
  {
   "cell_type": "code",
   "execution_count": 34,
   "outputs": [
    {
     "data": {
      "text/plain": "('a', 'b', ['X', 'Y'])"
     },
     "execution_count": 34,
     "metadata": {},
     "output_type": "execute_result"
    }
   ],
   "source": [
    "t = ('a', 'b', ['A', 'B'])\n",
    "t[2][0] = 'X'\n",
    "t[2][1] = 'Y'\n",
    "t"
   ],
   "metadata": {
    "collapsed": false,
    "ExecuteTime": {
     "end_time": "2023-11-14T06:13:33.187528Z",
     "start_time": "2023-11-14T06:13:33.173031Z"
    }
   },
   "id": "cdbacec205727df5"
  },
  {
   "cell_type": "markdown",
   "source": [
    "这个tuple定义的时候有3个元素，分别是'a'，'b'和一个list。不是说tuple一旦定义后就不可变了吗？怎么后来又变了？\n",
    "\n",
    "tuple的元素确实变了，但其实变的不是tuple的元素，而是list的元素。tuple一开始指向的list并没有改成别的list，所以，tuple所谓的“不变”是说，tuple的每个元素，指向永远不变。即指向'a'，就不能改成指向'b'，指向一个list，就不能改成指向其他对象，但指向的这个list本身是可变的！\n",
    "\n",
    "理解了“指向不变”后，要创建一个内容也不变的tuple怎么做？那就必须保证tuple的每一个元素本身也不能变。"
   ],
   "metadata": {
    "collapsed": false
   },
   "id": "341082cf2c782753"
  },
  {
   "cell_type": "markdown",
   "source": [
    "## 条件判断\n",
    "\n",
    "if判断条件还可以简写，比如写：\n",
    "只要x是非零数值、非空字符串、非空list等，就判断为True，否则为False"
   ],
   "metadata": {
    "collapsed": false
   },
   "id": "615eb6545d56f62a"
  },
  {
   "cell_type": "code",
   "execution_count": null,
   "outputs": [],
   "source": [
    "if x:\n",
    "    print('True')"
   ],
   "metadata": {
    "collapsed": false
   },
   "id": "36824e98aea8308e"
  },
  {
   "cell_type": "markdown",
   "source": [
    "### input\n",
    "\n",
    "很多同学会用input()读取用户的输入，这样可以自己输入，程序运行得更有意思："
   ],
   "metadata": {
    "collapsed": false
   },
   "id": "d64b1d92360aad8f"
  },
  {
   "cell_type": "code",
   "execution_count": null,
   "outputs": [],
   "source": [
    "s = input('birth: ')\n",
    "birth = int(s)\n",
    "if birth < 2000:\n",
    "    print('00前')\n",
    "else:\n",
    "    print('00后')"
   ],
   "metadata": {
    "collapsed": false
   },
   "id": "8e3eabcbab2c3621"
  },
  {
   "cell_type": "markdown",
   "source": [
    "### 模式匹配\n",
    "\n",
    "当我们用if ... elif ... elif ... else ...判断时，会写很长一串代码，可读性较差。\n",
    "\n",
    "如果要针对某个变量匹配若干种情况，可以使用match语句。\n",
    "\n",
    "例如，某个学生的成绩只能是A、B、C，用if语句编写如下："
   ],
   "metadata": {
    "collapsed": false
   },
   "id": "bf2507efbc3494ba"
  },
  {
   "cell_type": "code",
   "execution_count": null,
   "outputs": [],
   "source": [
    "score = 'B'\n",
    "if score == 'A':\n",
    "    print('score is A.')\n",
    "elif score == 'B':\n",
    "    print('score is B.')\n",
    "elif score == 'C':\n",
    "    print('score is C.')\n",
    "else:\n",
    "    print('invalid score.')"
   ],
   "metadata": {
    "collapsed": false
   },
   "id": "5961ab75c6b5d653"
  },
  {
   "cell_type": "markdown",
   "source": [
    "如果用match语句改写，则改写如下："
   ],
   "metadata": {
    "collapsed": false
   },
   "id": "1f87c2897d395f5a"
  },
  {
   "cell_type": "code",
   "execution_count": 41,
   "outputs": [
    {
     "ename": "SyntaxError",
     "evalue": "invalid syntax (805763417.py, line 3)",
     "output_type": "error",
     "traceback": [
      "\u001B[0;36m  Input \u001B[0;32mIn [41]\u001B[0;36m\u001B[0m\n\u001B[0;31m    match score:\u001B[0m\n\u001B[0m          ^\u001B[0m\n\u001B[0;31mSyntaxError\u001B[0m\u001B[0;31m:\u001B[0m invalid syntax\n"
     ]
    }
   ],
   "source": [
    "score = 'B'\n",
    "\n",
    "match score:\n",
    "    case 'A':\n",
    "        print('score is A.')\n",
    "    case 'B':\n",
    "        print('score is B.')\n",
    "    case 'C':\n",
    "        print('score is C.')\n",
    "    case _:\n",
    "        print('invalid score.')\n"
   ],
   "metadata": {
    "collapsed": false,
    "ExecuteTime": {
     "end_time": "2023-11-14T06:27:25.782413Z",
     "start_time": "2023-11-14T06:27:25.751854Z"
    }
   },
   "id": "1a46bf8178fcb6a0"
  },
  {
   "cell_type": "markdown",
   "source": [
    "使用match语句时，我们依次用case xxx匹配，并且可以在最后（且仅能在最后）加一个case _表示“任意值”，代码较if ... elif ... else ...更易读。\n",
    "\n",
    "### 复杂匹配\n",
    "\n",
    "match语句除了可以匹配简单的单个值外，还可以匹配多个值、匹配一定范围，并且把匹配后的值绑定到变量："
   ],
   "metadata": {
    "collapsed": false
   },
   "id": "7a08e5ef4d6d8a34"
  },
  {
   "cell_type": "code",
   "execution_count": 44,
   "outputs": [
    {
     "ename": "SyntaxError",
     "evalue": "invalid syntax (1622765496.py, line 3)",
     "output_type": "error",
     "traceback": [
      "\u001B[0;36m  Input \u001B[0;32mIn [44]\u001B[0;36m\u001B[0m\n\u001B[0;31m    match age:\u001B[0m\n\u001B[0m          ^\u001B[0m\n\u001B[0;31mSyntaxError\u001B[0m\u001B[0;31m:\u001B[0m invalid syntax\n"
     ]
    }
   ],
   "source": [
    "age = 9\n",
    "\n",
    "match age:\n",
    "    case x if x < 10:\n",
    "        print(f'< 10 years old: {x}')\n",
    "        \"\"\"\n",
    "        f 字符串（也称为 f-strings 或格式化字符串字面值）是一种特殊的字符串，允许在字符串中嵌入变量。通过在字符串前加上 f 或 F，您可以在字符串中使用花括号 {} 来包含变量，而这些变量的值会在运行时插入到字符串中。\n",
    "\n",
    "        例如，代码中的 f'< 10 years old: {x}' 是一个 f-string，其中 {x} 将会被变量 x 的值替换。这种语法使得字符串的构建变得更加简洁和可读。\n",
    "        \"\"\"\n",
    "    case 10:\n",
    "        print('10 years old.')\n",
    "    case 11 | 12 | 13 | 14 | 15 | 16 | 17 | 18:\n",
    "        print('11~18 years old.')\n",
    "    case 19:\n",
    "        print('19 years old.')\n",
    "    case _:\n",
    "        print('not sure.')"
   ],
   "metadata": {
    "collapsed": false,
    "ExecuteTime": {
     "end_time": "2023-11-14T06:29:35.254669Z",
     "start_time": "2023-11-14T06:29:35.238688Z"
    }
   },
   "id": "2fb3348390732f7c"
  },
  {
   "cell_type": "markdown",
   "source": [
    "在上面这个示例中，第一个case x if x < 10表示当age < 10成立时匹配，且赋值给变量x，第二个case 10仅匹配单个值，第三个case 11|12|...|18能匹配多个值，用|分隔。\n",
    "\n",
    "可见，match语句的case匹配非常灵活。"
   ],
   "metadata": {
    "collapsed": false
   },
   "id": "3cb7ca1c56672486"
  },
  {
   "cell_type": "markdown",
   "source": [
    "### 匹配列表\n",
    "\n",
    "match语句还可以匹配列表，功能非常强大。\n",
    "\n",
    "我们假设用户输入了一个命令，用args = ['gcc', 'hello.c']存储，下面的代码演示了如何用match匹配来解析这个列表："
   ],
   "metadata": {
    "collapsed": false
   },
   "id": "cbba17d90107be11"
  },
  {
   "cell_type": "code",
   "execution_count": 45,
   "outputs": [
    {
     "ename": "SyntaxError",
     "evalue": "invalid syntax (2130931557.py, line 5)",
     "output_type": "error",
     "traceback": [
      "\u001B[0;36m  Input \u001B[0;32mIn [45]\u001B[0;36m\u001B[0m\n\u001B[0;31m    match args:\u001B[0m\n\u001B[0m          ^\u001B[0m\n\u001B[0;31mSyntaxError\u001B[0m\u001B[0;31m:\u001B[0m invalid syntax\n"
     ]
    }
   ],
   "source": [
    "args = ['gcc', 'hello.c', 'world.c']\n",
    "# args = ['clean']\n",
    "# args = ['gcc']\n",
    "\n",
    "match args:\n",
    "    # 如果仅出现gcc，报错:\n",
    "    case ['gcc']:\n",
    "        print('gcc: missing source file(s).')\n",
    "    # 出现gcc，且至少指定了一个文件:\n",
    "    case ['gcc', file1, *files]:\n",
    "        print('gcc compile: ' + file1 + ', ' + ', '.join(files))\n",
    "    # 仅出现clean:\n",
    "    case ['clean']:\n",
    "        print('clean')\n",
    "    case _:\n",
    "        print('invalid command.')\n"
   ],
   "metadata": {
    "collapsed": false,
    "ExecuteTime": {
     "end_time": "2023-11-14T06:32:14.237509Z",
     "start_time": "2023-11-14T06:32:14.222514Z"
    }
   },
   "id": "d9106b3017c0d5c6"
  },
  {
   "cell_type": "markdown",
   "source": [
    "第一个case ['gcc']表示列表仅有'gcc'一个字符串，没有指定文件名，报错；\n",
    "\n",
    "第二个case ['gcc', file1, *files]表示列表第一个字符串是'gcc'，第二个字符串绑定到变量file1，后面的任意个字符串绑定到*files（符号作用将在函数的参数中讲解），它实际上表示至少指定一个文件；\n",
    "\n",
    "第三个case ['clean']表示列表仅有'clean'一个字符串；\n",
    "\n",
    "最后一个case _表示其他所有情况。\n",
    "\n",
    "可见，match语句的匹配规则非常灵活，可以写出非常简洁的代码。"
   ],
   "metadata": {
    "collapsed": false
   },
   "id": "4c721b43669d18d0"
  },
  {
   "cell_type": "markdown",
   "source": [
    "## 循环\n",
    "\n",
    "Python的循环有两种，一种是for...in循环，依次把list或tuple中的每个元素迭代出来，看例子："
   ],
   "metadata": {
    "collapsed": false
   },
   "id": "2de5b84ae4a2ad44"
  },
  {
   "cell_type": "code",
   "execution_count": 46,
   "outputs": [
    {
     "name": "stdout",
     "output_type": "stream",
     "text": [
      "Michael\n",
      "Bob\n",
      "Tracy\n"
     ]
    }
   ],
   "source": [
    "names = ['Michael', 'Bob', 'Tracy']\n",
    "for name in names:\n",
    "    print(name)"
   ],
   "metadata": {
    "collapsed": false,
    "ExecuteTime": {
     "end_time": "2023-11-14T06:36:02.710597Z",
     "start_time": "2023-11-14T06:36:02.678374Z"
    }
   },
   "id": "82ea00d07a808877"
  },
  {
   "cell_type": "markdown",
   "source": [
    "所以for x in ...循环就是把每个元素代入变量x，然后执行缩进块的语句。\n",
    "\n",
    "再比如我们想计算1-10的整数之和，可以用一个sum变量做累加："
   ],
   "metadata": {
    "collapsed": false
   },
   "id": "eb787b1b93e9ff8e"
  },
  {
   "cell_type": "code",
   "execution_count": 47,
   "outputs": [
    {
     "name": "stdout",
     "output_type": "stream",
     "text": [
      "55\n"
     ]
    }
   ],
   "source": [
    "sum = 0\n",
    "for x in [1, 2, 3, 4, 5, 6, 7, 8, 9, 10]:\n",
    "    sum = sum + x\n",
    "print(sum)"
   ],
   "metadata": {
    "collapsed": false,
    "ExecuteTime": {
     "end_time": "2023-11-14T06:36:36.971371Z",
     "start_time": "2023-11-14T06:36:36.942272Z"
    }
   },
   "id": "4e389ea1a9928095"
  },
  {
   "cell_type": "markdown",
   "source": [
    "如果要计算1-100的整数之和，从1写到100有点困难，幸好Python提供一个range()函数，可以生成一个整数序列，再通过list()函数可以转换为list。比如range(5)生成的序列是从0开始小于5的整数："
   ],
   "metadata": {
    "collapsed": false
   },
   "id": "a6472fe64b987a48"
  },
  {
   "cell_type": "code",
   "execution_count": 48,
   "outputs": [
    {
     "name": "stdout",
     "output_type": "stream",
     "text": [
      "[0, 1, 2, 3, 4]\n"
     ]
    }
   ],
   "source": [
    "print(list(range(5)))"
   ],
   "metadata": {
    "collapsed": false,
    "ExecuteTime": {
     "end_time": "2023-11-14T06:37:11.767538Z",
     "start_time": "2023-11-14T06:37:11.752025Z"
    }
   },
   "id": "f82bcb5c6c3473e1"
  },
  {
   "cell_type": "markdown",
   "source": [
    "range(101)就可以生成0-100的整数序列，计算如下："
   ],
   "metadata": {
    "collapsed": false
   },
   "id": "22bb3a006ce208f3"
  },
  {
   "cell_type": "code",
   "execution_count": null,
   "outputs": [],
   "source": [
    "sum = 0\n",
    "for x in range(101):\n",
    "    sum = sum + x\n",
    "print(sum)"
   ],
   "metadata": {
    "collapsed": false
   },
   "id": "ee0dfc4b83392818"
  },
  {
   "cell_type": "markdown",
   "source": [
    "第二种循环是while循环，只要条件满足，就不断循环，条件不满足时退出循环。比如我们要计算100以内所有奇数之和，可以用while循环实现："
   ],
   "metadata": {
    "collapsed": false
   },
   "id": "d61aba42a57d854f"
  },
  {
   "cell_type": "code",
   "execution_count": 49,
   "outputs": [
    {
     "name": "stdout",
     "output_type": "stream",
     "text": [
      "2500\n"
     ]
    }
   ],
   "source": [
    "sum = 0\n",
    "n = 99\n",
    "while n > 0:\n",
    "    sum += n\n",
    "    n -= 2\n",
    "print(sum)"
   ],
   "metadata": {
    "collapsed": false,
    "ExecuteTime": {
     "end_time": "2023-11-14T06:38:32.512256Z",
     "start_time": "2023-11-14T06:38:32.496512Z"
    }
   },
   "id": "9a412ed804d50f9e"
  },
  {
   "cell_type": "markdown",
   "source": [
    "### break"
   ],
   "metadata": {
    "collapsed": false
   },
   "id": "ae2a19a324f3c3ee"
  },
  {
   "cell_type": "code",
   "execution_count": 50,
   "outputs": [
    {
     "name": "stdout",
     "output_type": "stream",
     "text": [
      "1\n",
      "2\n",
      "3\n",
      "4\n",
      "5\n",
      "6\n",
      "7\n",
      "8\n",
      "9\n",
      "10\n",
      "END\n"
     ]
    }
   ],
   "source": [
    "n = 1\n",
    "while n <= 100:\n",
    "    if n > 10: # 当n = 11时，条件满足，执行break语句\n",
    "        break # break语句会结束当前循环\n",
    "    print(n)\n",
    "    n = n + 1\n",
    "print('END')"
   ],
   "metadata": {
    "collapsed": false,
    "ExecuteTime": {
     "end_time": "2023-11-14T06:42:53.264826Z",
     "start_time": "2023-11-14T06:42:53.231865Z"
    }
   },
   "id": "121066052b4aba06"
  },
  {
   "cell_type": "markdown",
   "source": [
    "### continue"
   ],
   "metadata": {
    "collapsed": false
   },
   "id": "81be0da1f2faeefd"
  },
  {
   "cell_type": "code",
   "execution_count": null,
   "outputs": [],
   "source": [
    "n = 0\n",
    "while n < 10:\n",
    "    n = n + 1\n",
    "    if n % 2 == 0: # 如果n是偶数，执行continue语句\n",
    "        continue # continue语句会直接继续下一轮循环，后续的print()语句不会执行\n",
    "    print(n)"
   ],
   "metadata": {
    "collapsed": false
   },
   "id": "fcc5174a41b3faf0"
  },
  {
   "cell_type": "markdown",
   "source": [
    "## dict\n",
    "\n",
    "Python内置了字典：dict的支持，dict全称dictionary，在其他语言中也称为map，使用键-值（key-value）存储，具有极快的查找速度。\n",
    "\n",
    "举个例子，假设要根据同学的名字查找对应的成绩，如果用list实现，需要两个list："
   ],
   "metadata": {
    "collapsed": false
   },
   "id": "f58a25dc54d10c84"
  },
  {
   "cell_type": "code",
   "execution_count": null,
   "outputs": [],
   "source": [
    "names = ['Michael', 'Bob', 'Tracy']\n",
    "scores = [95, 75, 85]"
   ],
   "metadata": {
    "collapsed": false
   },
   "id": "45254e027ba1648d"
  },
  {
   "cell_type": "markdown",
   "source": [
    "给定一个名字，要查找对应的成绩，就先要在names中找到对应的位置，再从scores取出对应的成绩，list越长，耗时越长。\n",
    "\n",
    "如果用dict实现，只需要一个“名字”-“成绩”的对照表，直接根据名字查找成绩，无论这个表有多大，查找速度都不会变慢。用Python写一个dict如下："
   ],
   "metadata": {
    "collapsed": false
   },
   "id": "df48a3aadc960c5b"
  },
  {
   "cell_type": "code",
   "execution_count": 54,
   "outputs": [
    {
     "name": "stdout",
     "output_type": "stream",
     "text": [
      "95\n"
     ]
    }
   ],
   "source": [
    "d = {'Michael': 95, 'Bob': 75, 'Tracy': 85}\n",
    "print(d['Michael'])"
   ],
   "metadata": {
    "collapsed": false,
    "ExecuteTime": {
     "end_time": "2023-11-14T06:47:15.557863Z",
     "start_time": "2023-11-14T06:47:15.522961Z"
    }
   },
   "id": "5d771991b5c62757"
  },
  {
   "cell_type": "markdown",
   "source": [
    "为什么dict查找速度这么快？因为dict的实现原理和查字典是一样的。假设字典包含了1万个汉字，我们要查某一个字，一个办法是把字典从第一页往后翻，直到找到我们想要的字为止，这种方法就是在list中查找元素的方法，list越大，查找越慢。\n",
    "\n",
    "第二种方法是先在字典的索引表里（比如部首表）查这个字对应的页码，然后直接翻到该页，找到这个字。无论找哪个字，这种查找速度都非常快，不会随着字典大小的增加而变慢。\n",
    "\n",
    "dict就是第二种实现方式，给定一个名字，比如'Michael'，dict在内部就可以直接计算出Michael对应的存放成绩的“页码”，也就是95这个数字存放的内存地址，直接取出来，所以速度非常快。\n",
    "\n",
    "你可以猜到，这种key-value存储方式，在放进去的时候，必须根据key算出value的存放位置，这样，取的时候才能根据key直接拿到value。\n",
    "\n",
    "把数据放入dict的方法，除了初始化时指定外，还可以通过key放入："
   ],
   "metadata": {
    "collapsed": false
   },
   "id": "3731d68b93e1aee9"
  },
  {
   "cell_type": "code",
   "execution_count": 55,
   "outputs": [
    {
     "name": "stdout",
     "output_type": "stream",
     "text": [
      "{'Michael': 95, 'Bob': 75, 'Tracy': 85, 'Adam': 67}\n"
     ]
    }
   ],
   "source": [
    "d['Adam'] = 67\n",
    "print(d)"
   ],
   "metadata": {
    "collapsed": false,
    "ExecuteTime": {
     "end_time": "2023-11-14T06:47:20.079267Z",
     "start_time": "2023-11-14T06:47:20.004828Z"
    }
   },
   "id": "3b1afdef40328dd8"
  },
  {
   "cell_type": "markdown",
   "source": [
    "由于一个key只能对应一个value，所以，多次对一个key放入value，后面的值会把前面的值冲掉："
   ],
   "metadata": {
    "collapsed": false
   },
   "id": "2f36f67c52f47c1d"
  },
  {
   "cell_type": "code",
   "execution_count": 56,
   "outputs": [
    {
     "name": "stdout",
     "output_type": "stream",
     "text": [
      "90\n",
      "83\n"
     ]
    }
   ],
   "source": [
    "d['Jack'] = 90\n",
    "print(d['Jack'])\n",
    "d['Jack'] = 83\n",
    "print(d['Jack'])"
   ],
   "metadata": {
    "collapsed": false,
    "ExecuteTime": {
     "end_time": "2023-11-14T06:48:01.440528Z",
     "start_time": "2023-11-14T06:48:01.315669Z"
    }
   },
   "id": "3c74dd759555e44b"
  },
  {
   "cell_type": "markdown",
   "source": [
    "如果key不存在，dict就会报错："
   ],
   "metadata": {
    "collapsed": false
   },
   "id": "a9c87bf8e1abf1bd"
  },
  {
   "cell_type": "code",
   "execution_count": 57,
   "outputs": [
    {
     "ename": "KeyError",
     "evalue": "'Thomax'",
     "output_type": "error",
     "traceback": [
      "\u001B[0;31m---------------------------------------------------------------------------\u001B[0m",
      "\u001B[0;31mKeyError\u001B[0m                                  Traceback (most recent call last)",
      "Input \u001B[0;32mIn [57]\u001B[0m, in \u001B[0;36m<cell line: 1>\u001B[0;34m()\u001B[0m\n\u001B[0;32m----> 1\u001B[0m \u001B[38;5;28mprint\u001B[39m(\u001B[43md\u001B[49m\u001B[43m[\u001B[49m\u001B[38;5;124;43m'\u001B[39;49m\u001B[38;5;124;43mThomax\u001B[39;49m\u001B[38;5;124;43m'\u001B[39;49m\u001B[43m]\u001B[49m)\n",
      "\u001B[0;31mKeyError\u001B[0m: 'Thomax'"
     ]
    }
   ],
   "source": [
    "print(d['Thomax'])"
   ],
   "metadata": {
    "collapsed": false,
    "ExecuteTime": {
     "end_time": "2023-11-14T06:48:26.215514Z",
     "start_time": "2023-11-14T06:48:26.122202Z"
    }
   },
   "id": "8e9a34ac5123c93f"
  },
  {
   "cell_type": "markdown",
   "source": [
    "要避免key不存在的错误，有两种办法，一是通过in判断key是否存在："
   ],
   "metadata": {
    "collapsed": false
   },
   "id": "6923d249fe779ce"
  },
  {
   "cell_type": "code",
   "execution_count": 59,
   "outputs": [
    {
     "name": "stdout",
     "output_type": "stream",
     "text": [
      "False\n"
     ]
    }
   ],
   "source": [
    "print('Thomas' in d)"
   ],
   "metadata": {
    "collapsed": false,
    "ExecuteTime": {
     "end_time": "2023-11-14T06:49:06.963686Z",
     "start_time": "2023-11-14T06:49:06.944173Z"
    }
   },
   "id": "19e91d56db35752b"
  },
  {
   "cell_type": "markdown",
   "source": [
    "二是通过dict提供的get()方法，如果key不存在，可以返回None，或者自己指定的value："
   ],
   "metadata": {
    "collapsed": false
   },
   "id": "cf26baa2c6423e6b"
  },
  {
   "cell_type": "code",
   "execution_count": 61,
   "outputs": [
    {
     "name": "stdout",
     "output_type": "stream",
     "text": [
      "None\n",
      "-1\n"
     ]
    }
   ],
   "source": [
    "print(d.get('Thomas'))\n",
    "print(d.get('Thomas', -1))"
   ],
   "metadata": {
    "collapsed": false,
    "ExecuteTime": {
     "end_time": "2023-11-14T06:49:45.471295Z",
     "start_time": "2023-11-14T06:49:45.443563Z"
    }
   },
   "id": "d4daeee9f62e8ec5"
  },
  {
   "cell_type": "markdown",
   "source": [
    "注意：返回None的时候Python的交互环境不显示结果。\n",
    "\n",
    "要删除一个key，用pop(key)方法，对应的value也会从dict中删除："
   ],
   "metadata": {
    "collapsed": false
   },
   "id": "99ef4019764bfcbe"
  },
  {
   "cell_type": "code",
   "execution_count": 62,
   "outputs": [
    {
     "name": "stdout",
     "output_type": "stream",
     "text": [
      "{'Michael': 95, 'Tracy': 85, 'Adam': 67, 'Jack': 83}\n"
     ]
    }
   ],
   "source": [
    "d.pop('Bob')\n",
    "print(d)"
   ],
   "metadata": {
    "collapsed": false,
    "ExecuteTime": {
     "end_time": "2023-11-14T06:50:33.649396Z",
     "start_time": "2023-11-14T06:50:33.619248Z"
    }
   },
   "id": "a376a4bcbdb2dc5d"
  },
  {
   "cell_type": "markdown",
   "source": [
    "请务必注意，dict内部存放的顺序和key放入的顺序是没有关系的。\n",
    "\n",
    "和list比较，dict有以下几个特点：\n",
    "\n",
    "查找和插入的速度极快，不会随着key的增加而变慢；\n",
    "需要占用大量的内存，内存浪费多。\n",
    "而list相反：\n",
    "\n",
    "查找和插入的时间随着元素的增加而增加；\n",
    "占用空间小，浪费内存很少。\n",
    "所以，dict是用空间来换取时间的一种方法。\n",
    "\n",
    "dict可以用在需要高速查找的很多地方，在Python代码中几乎无处不在，正确使用dict非常重要，需要牢记的第一条就是dict的key必须是不可变对象。\n",
    "\n",
    "这是因为dict根据key来计算value的存储位置，如果每次计算相同的key得出的结果不同，那dict内部就完全混乱了。这个通过key计算位置的算法称为哈希算法（Hash）。\n",
    "\n",
    "要保证hash的正确性，作为key的对象就不能变。在Python中，字符串、整数等都是不可变的，因此，可以放心地作为key。而list是可变的，就不能作为key："
   ],
   "metadata": {
    "collapsed": false
   },
   "id": "534e9f505af2b705"
  },
  {
   "cell_type": "code",
   "execution_count": 63,
   "outputs": [
    {
     "ename": "TypeError",
     "evalue": "unhashable type: 'list'",
     "output_type": "error",
     "traceback": [
      "\u001B[0;31m---------------------------------------------------------------------------\u001B[0m",
      "\u001B[0;31mTypeError\u001B[0m                                 Traceback (most recent call last)",
      "Input \u001B[0;32mIn [63]\u001B[0m, in \u001B[0;36m<cell line: 2>\u001B[0;34m()\u001B[0m\n\u001B[1;32m      1\u001B[0m key \u001B[38;5;241m=\u001B[39m [\u001B[38;5;241m1\u001B[39m, \u001B[38;5;241m2\u001B[39m, \u001B[38;5;241m3\u001B[39m]\n\u001B[0;32m----> 2\u001B[0m \u001B[43md\u001B[49m\u001B[43m[\u001B[49m\u001B[43mkey\u001B[49m\u001B[43m]\u001B[49m \u001B[38;5;241m=\u001B[39m \u001B[38;5;124m'\u001B[39m\u001B[38;5;124ma list\u001B[39m\u001B[38;5;124m'\u001B[39m\n",
      "\u001B[0;31mTypeError\u001B[0m: unhashable type: 'list'"
     ]
    }
   ],
   "source": [
    "key = [1, 2, 3]\n",
    "d[key] = 'a list'"
   ],
   "metadata": {
    "collapsed": false,
    "ExecuteTime": {
     "end_time": "2023-11-14T06:51:34.861364Z",
     "start_time": "2023-11-14T06:51:34.854994Z"
    }
   },
   "id": "ff7fb77d52e4ee0"
  },
  {
   "cell_type": "markdown",
   "source": [
    "## set\n",
    "\n",
    "set和dict类似，也是一组key的集合，但不存储value。由于key不能重复，所以，*在set中，没有重复的key。*\n",
    "\n",
    "要创建一个set，需要提供一个list作为输入集合："
   ],
   "metadata": {
    "collapsed": false
   },
   "id": "6de9a51e5804cd78"
  },
  {
   "cell_type": "code",
   "execution_count": 64,
   "outputs": [
    {
     "name": "stdout",
     "output_type": "stream",
     "text": [
      "{1, 2, 3}\n"
     ]
    }
   ],
   "source": [
    "s = set([1, 2, 3])\n",
    "print(s)"
   ],
   "metadata": {
    "collapsed": false,
    "ExecuteTime": {
     "end_time": "2023-11-14T06:52:51.812297Z",
     "start_time": "2023-11-14T06:52:51.790773Z"
    }
   },
   "id": "217508e4f47dc8cf"
  },
  {
   "cell_type": "markdown",
   "source": [
    "注意，传入的参数[1, 2, 3]是一个list，而显示的{1, 2, 3}只是告诉你这个set内部有1，2，3这3个元素，显示的顺序也不表示set是有序的。。\n",
    "\n",
    "重复元素在set中自动被过滤："
   ],
   "metadata": {
    "collapsed": false
   },
   "id": "592b55e84e5a768c"
  },
  {
   "cell_type": "code",
   "execution_count": 65,
   "outputs": [
    {
     "name": "stdout",
     "output_type": "stream",
     "text": [
      "{1, 2, 3}\n"
     ]
    }
   ],
   "source": [
    "s = set([1, 1, 2, 2, 3, 3])\n",
    "print(s)"
   ],
   "metadata": {
    "collapsed": false,
    "ExecuteTime": {
     "end_time": "2023-11-14T06:53:19.159645Z",
     "start_time": "2023-11-14T06:53:19.136445Z"
    }
   },
   "id": "349adcce8d250480"
  },
  {
   "cell_type": "markdown",
   "source": [
    "通过add(key)方法可以添加元素到set中，可以重复添加，但不会有效果："
   ],
   "metadata": {
    "collapsed": false
   },
   "id": "7186e0ac4bc11824"
  },
  {
   "cell_type": "code",
   "execution_count": 66,
   "outputs": [
    {
     "name": "stdout",
     "output_type": "stream",
     "text": [
      "{1, 2, 3, 4, 5, 6}\n"
     ]
    }
   ],
   "source": [
    "s.add(4)\n",
    "s.add(5)\n",
    "s.add(6)\n",
    "\n",
    "print(s)"
   ],
   "metadata": {
    "collapsed": false,
    "ExecuteTime": {
     "end_time": "2023-11-14T06:53:53.210376Z",
     "start_time": "2023-11-14T06:53:53.189609Z"
    }
   },
   "id": "8daacd9fe511e5a1"
  },
  {
   "cell_type": "markdown",
   "source": [
    "通过remove(key)方法可以删除元素："
   ],
   "metadata": {
    "collapsed": false
   },
   "id": "deef803a59ee5e45"
  },
  {
   "cell_type": "code",
   "execution_count": 67,
   "outputs": [
    {
     "name": "stdout",
     "output_type": "stream",
     "text": [
      "{1, 2, 3, 5, 6}\n"
     ]
    }
   ],
   "source": [
    "s.remove(4)\n",
    "print(s)"
   ],
   "metadata": {
    "collapsed": false,
    "ExecuteTime": {
     "end_time": "2023-11-14T06:54:15.976283Z",
     "start_time": "2023-11-14T06:54:15.957433Z"
    }
   },
   "id": "576caee9d730bdc8"
  },
  {
   "cell_type": "markdown",
   "source": [
    "set可以看成数学意义上的无序和无重复元素的集合，因此，两个set可以做数学意义上的交集、并集等操作："
   ],
   "metadata": {
    "collapsed": false
   },
   "id": "c9b1f0824eae83d5"
  },
  {
   "cell_type": "code",
   "execution_count": 71,
   "outputs": [
    {
     "name": "stdout",
     "output_type": "stream",
     "text": [
      "{2, 3}\n",
      "{1, 2, 3, 4}\n"
     ]
    }
   ],
   "source": [
    "s1 = set([1, 2, 3])\n",
    "s2 = set([2, 3, 4])\n",
    "print(s1 & s2)\n",
    "print(s1 | s2)"
   ],
   "metadata": {
    "collapsed": false,
    "ExecuteTime": {
     "end_time": "2023-11-14T06:55:23.173851Z",
     "start_time": "2023-11-14T06:55:23.147459Z"
    }
   },
   "id": "3f4e8fc165e74115"
  },
  {
   "cell_type": "markdown",
   "source": [
    "set和dict的唯一区别仅在于没有存储对应的value，但是，set的原理和dict一样，所以，同样不可以放入可变对象，因为无法判断两个可变对象是否相等，也就无法保证set内部“不会有重复元素”。"
   ],
   "metadata": {
    "collapsed": false
   },
   "id": "3860e30900f8c13d"
  },
  {
   "cell_type": "markdown",
   "source": [
    "## 不可变对象\n",
    "\n",
    "上面我们讲了，str是不变对象，而list是可变对象。\n",
    "\n",
    "对于可变对象，比如list，对list进行操作，list内部的内容是会变化的，比如："
   ],
   "metadata": {
    "collapsed": false
   },
   "id": "7392f8a7b45eaf5c"
  },
  {
   "cell_type": "code",
   "execution_count": 72,
   "outputs": [
    {
     "name": "stdout",
     "output_type": "stream",
     "text": [
      "['a', 'b', 'c']\n"
     ]
    }
   ],
   "source": [
    "a = ['c', 'b', 'a']\n",
    "a.sort()\n",
    "print(a)"
   ],
   "metadata": {
    "collapsed": false,
    "ExecuteTime": {
     "end_time": "2023-11-14T06:58:28.165724Z",
     "start_time": "2023-11-14T06:58:28.143199Z"
    }
   },
   "id": "f723145000c44ce7"
  },
  {
   "cell_type": "markdown",
   "source": [
    "而对于不可变对象，比如str，对str进行操作呢："
   ],
   "metadata": {
    "collapsed": false
   },
   "id": "8d704b1dc20a1dea"
  },
  {
   "cell_type": "code",
   "execution_count": 74,
   "outputs": [
    {
     "name": "stdout",
     "output_type": "stream",
     "text": [
      "Abc\n",
      "abc\n"
     ]
    }
   ],
   "source": [
    "a = 'abc'\n",
    "print(a.replace('a', 'A'))\n",
    "print(a)"
   ],
   "metadata": {
    "collapsed": false,
    "ExecuteTime": {
     "end_time": "2023-11-14T06:59:43.650900Z",
     "start_time": "2023-11-14T06:59:43.628587Z"
    }
   },
   "id": "8616f8eba8174678"
  },
  {
   "cell_type": "markdown",
   "source": [
    "虽然字符串有个replace()方法，也确实变出了'Abc'，但变量a最后仍是'abc'，应该怎么理解呢？\n",
    "\n",
    "我们先把代码改成下面这样："
   ],
   "metadata": {
    "collapsed": false
   },
   "id": "344d0ca4737ea6f4"
  },
  {
   "cell_type": "code",
   "execution_count": 75,
   "outputs": [
    {
     "name": "stdout",
     "output_type": "stream",
     "text": [
      "Abc\n",
      "abc\n"
     ]
    }
   ],
   "source": [
    "a = 'abc'\n",
    "b = a.replace('a', 'A')\n",
    "print(b)\n",
    "print(a)"
   ],
   "metadata": {
    "collapsed": false,
    "ExecuteTime": {
     "end_time": "2023-11-14T07:00:17.927612Z",
     "start_time": "2023-11-14T07:00:17.900542Z"
    }
   },
   "id": "b7f8c13417c0eb00"
  },
  {
   "cell_type": "markdown",
   "source": [
    "要始终牢记的是，a是变量，而'abc'才是字符串对象！有些时候，我们经常说，对象a的内容是'abc'，但其实是指，a本身是一个变量，它指向的对象的内容才是'abc';\n",
    "\n",
    "当我们调用a.replace('a', 'A')时，实际上调用方法replace是作用在字符串对象'abc'上的，而这个方法虽然名字叫replace，但却没有改变字符串'abc'的内容。相反，replace方法创建了一个新字符串'Abc'并返回，如果我们用变量b指向该新字符串，就容易理解了，变量a仍指向原有的字符串'abc'，但变量b却指向新字符串'Abc'了;\n",
    "\n",
    "所以，对于不变对象来说，调用对象自身的任意方法，也不会改变该对象自身的内容。相反，这些方法会创建新的对象并返回，这样，就保证了不可变对象本身永远是不可变的。\n",
    "\n",
    "选择不可变对象作为key很重要，最常用的key是字符串"
   ],
   "metadata": {
    "collapsed": false
   },
   "id": "5d8888f0e82e45bc"
  },
  {
   "cell_type": "markdown",
   "source": [
    "将(1, 2, 3)和(1, [2, 3])放入dict（字典）或set（集合）时，会有一些不同的行为和结果。首先，我们来看一下两者的差异："
   ],
   "metadata": {
    "collapsed": false
   },
   "id": "1a9e984e8680aa9b"
  },
  {
   "cell_type": "code",
   "execution_count": 76,
   "outputs": [
    {
     "name": "stdout",
     "output_type": "stream",
     "text": [
      "{(1, 2, 3): 'Tuple 1'}\n"
     ]
    },
    {
     "ename": "TypeError",
     "evalue": "unhashable type: 'list'",
     "output_type": "error",
     "traceback": [
      "\u001B[0;31m---------------------------------------------------------------------------\u001B[0m",
      "\u001B[0;31mTypeError\u001B[0m                                 Traceback (most recent call last)",
      "Input \u001B[0;32mIn [76]\u001B[0m, in \u001B[0;36m<cell line: 5>\u001B[0;34m()\u001B[0m\n\u001B[1;32m      2\u001B[0m my_dict \u001B[38;5;241m=\u001B[39m {(\u001B[38;5;241m1\u001B[39m, \u001B[38;5;241m2\u001B[39m, \u001B[38;5;241m3\u001B[39m): \u001B[38;5;124m'\u001B[39m\u001B[38;5;124mTuple 1\u001B[39m\u001B[38;5;124m'\u001B[39m}\n\u001B[1;32m      3\u001B[0m \u001B[38;5;28mprint\u001B[39m(my_dict)\n\u001B[0;32m----> 5\u001B[0m my_dict \u001B[38;5;241m=\u001B[39m {(\u001B[38;5;241m1\u001B[39m, [\u001B[38;5;241m2\u001B[39m, \u001B[38;5;241m3\u001B[39m]): \u001B[38;5;124m'\u001B[39m\u001B[38;5;124mTuple 2\u001B[39m\u001B[38;5;124m'\u001B[39m}\n\u001B[1;32m      6\u001B[0m \u001B[38;5;28mprint\u001B[39m(my_dict)\n",
      "\u001B[0;31mTypeError\u001B[0m: unhashable type: 'list'"
     ]
    }
   ],
   "source": [
    "# Attempting to create a dictionary with tuple keys\n",
    "my_dict = {(1, 2, 3): 'Tuple 1'}\n",
    "print(my_dict)\n",
    "\n",
    "my_dict = {(1, [2, 3]): 'Tuple 2'}\n",
    "print(my_dict)\n"
   ],
   "metadata": {
    "collapsed": false,
    "ExecuteTime": {
     "end_time": "2023-11-14T07:05:02.171176Z",
     "start_time": "2023-11-14T07:05:02.157927Z"
    }
   },
   "id": "a61ead91667d4761"
  },
  {
   "cell_type": "code",
   "execution_count": 77,
   "outputs": [
    {
     "name": "stdout",
     "output_type": "stream",
     "text": [
      "{(1, 2, 3)}\n"
     ]
    },
    {
     "ename": "TypeError",
     "evalue": "unhashable type: 'list'",
     "output_type": "error",
     "traceback": [
      "\u001B[0;31m---------------------------------------------------------------------------\u001B[0m",
      "\u001B[0;31mTypeError\u001B[0m                                 Traceback (most recent call last)",
      "Input \u001B[0;32mIn [77]\u001B[0m, in \u001B[0;36m<cell line: 5>\u001B[0;34m()\u001B[0m\n\u001B[1;32m      2\u001B[0m my_set \u001B[38;5;241m=\u001B[39m {(\u001B[38;5;241m1\u001B[39m, \u001B[38;5;241m2\u001B[39m, \u001B[38;5;241m3\u001B[39m)}\n\u001B[1;32m      3\u001B[0m \u001B[38;5;28mprint\u001B[39m(my_set)\n\u001B[0;32m----> 5\u001B[0m my_set \u001B[38;5;241m=\u001B[39m {(\u001B[38;5;241m1\u001B[39m, [\u001B[38;5;241m2\u001B[39m, \u001B[38;5;241m3\u001B[39m])}\n\u001B[1;32m      6\u001B[0m \u001B[38;5;28mprint\u001B[39m(my_set)\n",
      "\u001B[0;31mTypeError\u001B[0m: unhashable type: 'list'"
     ]
    }
   ],
   "source": [
    "# Attempting to create a set with tuples\n",
    "my_set = {(1, 2, 3)}\n",
    "print(my_set)\n",
    "\n",
    "my_set = {(1, [2, 3])}\n",
    "print(my_set)"
   ],
   "metadata": {
    "collapsed": false,
    "ExecuteTime": {
     "end_time": "2023-11-14T07:06:36.545429Z",
     "start_time": "2023-11-14T07:06:36.519728Z"
    }
   },
   "id": "211fd071b110e938"
  },
  {
   "cell_type": "markdown",
   "source": [
    "如果想要在集合或字典中包含类似的元素，可以使用不可变类型，例如字符串、整数或其他不可变类型。如果需要使用可变类型，可能需要考虑使用其他数据结构或者在需要时使用特殊处理的方法。"
   ],
   "metadata": {
    "collapsed": false
   },
   "id": "66a022c89b03f7da"
  },
  {
   "cell_type": "markdown",
   "source": [
    "如果需要在字典或集合中使用可变类型，可以考虑使用元组作为字典的键，但是确保元组中的所有元素都是不可变的。对于集合，元素必须是不可变的。\n",
    "\n",
    "下面是一个例子，其中使用包含可变类型的元组放入字典："
   ],
   "metadata": {
    "collapsed": false
   },
   "id": "7ff8324643f57c6f"
  },
  {
   "cell_type": "code",
   "execution_count": null,
   "outputs": [],
   "source": [
    "# Using tuples with immutable elements in a dictionary\n",
    "my_dict = {(1, 2, 3): 'Tuple 1', (1, tuple([2, 3])): 'Tuple 2'}\n",
    "print(my_dict)"
   ],
   "metadata": {
    "collapsed": false
   },
   "id": "4f782690ed167373"
  },
  {
   "cell_type": "markdown",
   "source": [
    "\n",
    "在这个例子中，我们将列表 `[2, 3]` 转换为元组，因为元组是不可变的，从而避免了 `TypeError`。\n",
    "\n",
    "如果希望在集合中使用可变类型，您可以将列表转换为元组："
   ],
   "metadata": {
    "collapsed": false
   },
   "id": "85e303285f7ce64a"
  },
  {
   "cell_type": "code",
   "execution_count": null,
   "outputs": [],
   "source": [
    "# Using tuples with immutable elements in a set\n",
    "my_set = {(1, 2, 3), tuple([1, 2, 3])}\n",
    "print(my_set)"
   ],
   "metadata": {
    "collapsed": false
   },
   "id": "abe1449599f45e95"
  },
  {
   "cell_type": "markdown",
   "source": [
    "同样，我们在集合中使用了包含可变类型的元组。这样，就可以成功创建包含可变类型的元素的字典或集合。"
   ],
   "metadata": {
    "collapsed": false
   },
   "id": "4ebf9476bdf0bb50"
  },
  {
   "cell_type": "markdown",
   "source": [
    "- `list`（列表）是一种有序的可变序列，可以存储任意类型的元素。列表使用方括号`[]`来表示，元素之间用逗号`,`分隔。列表支持索引、切片、添加、删除、修改等操作，是Python中最常用的数据类型之一。\n",
    "\n",
    "- `tuple`（元组）是一种有序的不可变序列，可以存储任意类型的元素。元组使用圆括号`()`来表示，元素之间用逗号`,`分隔。元组支持索引、切片等操作，但不支持添加、删除、修改等操作。元组通常用于存储不可变的数据，如坐标、颜色等。\n",
    "\n",
    "- `dict`（字典）是一种无序的键值对集合，可以存储任意类型的键和值。字典使用花括号`{}`来表示，每个键值对之间用冒号`:`分隔，键值对之间用逗号`,`分隔。字典支持通过键来访问值，也支持添加、删除、修改等操作。字典通常用于存储具有映射关系的数据，如姓名和电话号码的对应关系。\n",
    "\n",
    "- `set`（集合）是一种无序的元素集合，可以存储任意类型的元素。集合使用花括号`{}`来表示，元素之间用逗号`,`分隔。集合支持添加、删除、交集、并集、差集等操作。集合通常用于去重、交集、并集等操作。\n",
    "\n",
    "需要注意的是，`list`、`tuple`、`dict`和`set`是不同的数据类型，它们之间不能直接进行转换。如果需要将它们之间进行转换，需要使用相应的转换函数，如`list()`、`tuple()`、`dict()`和`set()`。"
   ],
   "metadata": {
    "collapsed": false
   },
   "id": "f74620da779adda3"
  },
  {
   "cell_type": "markdown",
   "source": [
    "## 速查\n",
    "\n",
    "list是方括号[ ]，如L=[1,2,3]\n",
    "\n",
    "tuple是圆括号( )，如t=(1,2,3)\n",
    "\n",
    "dict是花括号{ }，如d={'张三':1, ’王五':2, '赵六':3}\n",
    "\n",
    "set也是花括号{ }，如s={1,2,3}\n",
    "\n",
    "增删改查：\n",
    "\n",
    "1、list\n",
    "\n",
    "1）查: L[1] L[0]      L[-1]  #索引最后一个元素\n",
    "\n",
    "2）增: \n",
    "L.append('赵六') #添加到最后一个位置    \n",
    "L.insert(2,'赵六') #添加到指定位置\n",
    "\n",
    "3）删: \n",
    "L.pop() #删除最后一个位置的元素     \n",
    "L.pop(1) #删除指定位置的元素\n",
    "\n",
    "4）改: L[1]='王丹'\n",
    "\n",
    "5）空: L=[ ]\n",
    "\n",
    "2、Tuple：\n",
    "\n",
    "1）不能删改内容，索引方法和list相同\n",
    "\n",
    "2）定义只有一个元素的tulpe： t=('张三',)\n",
    "\n",
    "3、dict：\n",
    "\n",
    "1）查：'李四' in d #查是否存在     \n",
    "d.get('李四') #不存在则无反馈 或d.get('李四',-1) #不存在返回-1\n",
    "\n",
    "2）增/改：d['李四']=80\n",
    "\n",
    "3）删：d.pop('李四')\n",
    "\n",
    "4、set（一组key的合集，无value，不重复，无序）\n",
    "\n",
    "1）增：s.add(4)\n",
    "\n",
    "2）删：s.remove(4)\n",
    "\n",
    "3）交集：s1&s2\n",
    "\n",
    "2）并集：s1 I s2"
   ],
   "metadata": {
    "collapsed": false
   },
   "id": "df872a8ed96410b6"
  }
 ],
 "metadata": {
  "kernelspec": {
   "display_name": "Python 3",
   "language": "python",
   "name": "python3"
  },
  "language_info": {
   "codemirror_mode": {
    "name": "ipython",
    "version": 2
   },
   "file_extension": ".py",
   "mimetype": "text/x-python",
   "name": "python",
   "nbconvert_exporter": "python",
   "pygments_lexer": "ipython2",
   "version": "2.7.6"
  }
 },
 "nbformat": 4,
 "nbformat_minor": 5
}
