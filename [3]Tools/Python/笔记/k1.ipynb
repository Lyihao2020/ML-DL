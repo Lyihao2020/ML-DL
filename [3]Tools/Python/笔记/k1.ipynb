{
 "cells": [
  {
   "cell_type": "markdown",
   "source": [
    "# 第一讲：Python基础一"
   ],
   "metadata": {
    "collapsed": false
   },
   "id": "5dd7935a8fa6d617"
  },
  {
   "cell_type": "markdown",
   "source": [
    "## 直接运行py文件\n",
    "\n",
    "能不能像.exe文件那样直接运行.py文件呢？在Windows上是不行的，但是，在Mac和Linux上是可以的，方法是在.py文件的第一行加上一个特殊的注释："
   ],
   "metadata": {
    "collapsed": false
   },
   "id": "c559a2a6e85e886e"
  },
  {
   "cell_type": "code",
   "execution_count": null,
   "outputs": [],
   "source": [
    "#!/usr/bin/env python3\n",
    "\n",
    "print('hello, world')"
   ],
   "metadata": {
    "collapsed": false
   },
   "id": "29a576c9ccbf28c0"
  },
  {
   "cell_type": "markdown",
   "source": [
    "然后，通过命令给hello.py以执行权限："
   ],
   "metadata": {
    "collapsed": false
   },
   "id": "f6bb6f3615da7e60"
  },
  {
   "cell_type": "code",
   "execution_count": null,
   "outputs": [],
   "source": [
    "# $ chmod a+x hello.py"
   ],
   "metadata": {
    "collapsed": false
   },
   "id": "f6bb4894f14c3262"
  },
  {
   "cell_type": "markdown",
   "source": [
    "就可以直接运行hello.py了"
   ],
   "metadata": {
    "collapsed": false
   },
   "id": "f081c01df03e9383"
  },
  {
   "cell_type": "markdown",
   "source": [
    "## python注释"
   ],
   "metadata": {
    "collapsed": false
   },
   "id": "b35b81a4250253a3"
  },
  {
   "cell_type": "code",
   "execution_count": 2,
   "outputs": [
    {
     "data": {
      "text/plain": "'\\nprint(\"Hello World!\")\\n'"
     },
     "execution_count": 2,
     "metadata": {},
     "output_type": "execute_result"
    }
   ],
   "source": [
    "# 注释是以这个 # 号开头，直至行尾\n",
    "# 多行注释 “”“ ‘’‘\n",
    "\"\"\"\n",
    "print(\"Hello World!\")\n",
    "\"\"\""
   ],
   "metadata": {
    "collapsed": false,
    "ExecuteTime": {
     "end_time": "2023-11-14T02:21:59.904530Z",
     "start_time": "2023-11-14T02:21:59.742886Z"
    }
   },
   "id": "a11c500319b648cd"
  },
  {
   "cell_type": "markdown",
   "source": [
    "## 文件后缀"
   ],
   "metadata": {
    "collapsed": false
   },
   "id": "ff7fa73881d8f33b"
  },
  {
   "cell_type": "markdown",
   "source": [
    ".py   Python语言\n",
    ".pyc  Python字节码文件 c:code-byte\n",
    ".pyo  Python优化文件   o:optimizing"
   ],
   "metadata": {
    "collapsed": false
   },
   "id": "72215611e8025b74"
  },
  {
   "cell_type": "markdown",
   "source": [
    "## 输出"
   ],
   "metadata": {
    "collapsed": false
   },
   "id": "36e086a2e9999714"
  },
  {
   "cell_type": "markdown",
   "source": [
    "用print()在括号中加上字符串，就可以向屏幕上输出指定的文字。比如输出'hello, world'，用代码实现如下："
   ],
   "metadata": {
    "collapsed": false
   },
   "id": "6501d289be6fc093"
  },
  {
   "cell_type": "code",
   "execution_count": 3,
   "outputs": [
    {
     "name": "stdout",
     "output_type": "stream",
     "text": [
      "hello, world\n",
      "The quick brown fox jumps over the lazy dog\n"
     ]
    }
   ],
   "source": [
    "print('hello, world')\n",
    "# print()函数也可以接受多个字符串，用逗号“,”隔开，就可以连成一串输出：\n",
    "\n",
    "print('The quick brown fox', 'jumps over', 'the lazy dog')\n",
    "# The quick brown fox jumps over the lazy dog\n",
    "# print()会依次打印每个字符串，遇到逗号“,”会输出一个空格，因此，输出的字符串是这样拼起来的："
   ],
   "metadata": {
    "collapsed": false,
    "ExecuteTime": {
     "end_time": "2023-11-14T02:21:59.955853Z",
     "start_time": "2023-11-14T02:21:59.774230Z"
    }
   },
   "id": "2f2e752a14ae1f7b"
  },
  {
   "cell_type": "markdown",
   "source": [
    "print()也可以打印整数，或者计算结果："
   ],
   "metadata": {
    "collapsed": false
   },
   "id": "5fdd9f5ddab8fd93"
  },
  {
   "cell_type": "code",
   "execution_count": 4,
   "outputs": [
    {
     "name": "stdout",
     "output_type": "stream",
     "text": [
      "300\n",
      "300\n",
      "100 + 200 = 300\n"
     ]
    }
   ],
   "source": [
    "print(300)\n",
    "# 300\n",
    "print(100 + 200)\n",
    "# 300\n",
    "# 因此，我们可以把计算100 + 200的结果打印得更漂亮一点：\n",
    "\n",
    "print('100 + 200 =', 100 + 200)\n",
    "# 100 + 200 = 300\n",
    "# 注意，对于100 + 200，Python解释器自动计算出结果300，但是，'100 + 200 ='是字符串而非数学公式，Python把它视为字符串，请自行解释上述打印结果。"
   ],
   "metadata": {
    "collapsed": false,
    "ExecuteTime": {
     "end_time": "2023-11-14T02:21:59.964830Z",
     "start_time": "2023-11-14T02:21:59.784165Z"
    }
   },
   "id": "ce5f2bcfea8b9d32"
  },
  {
   "cell_type": "markdown",
   "source": [
    "## 输入"
   ],
   "metadata": {
    "collapsed": false
   },
   "id": "7b2a4d966f5ae86d"
  },
  {
   "cell_type": "markdown",
   "source": [
    "现在，你已经可以用print()输出你想要的结果了。但是，如果要让用户从电脑输入一些字符怎么办？Python提供了一个input()，可以让用户输入字符串，并存放到一个变量里。比如输入用户的名字："
   ],
   "metadata": {
    "collapsed": false
   },
   "id": "fca625cb19efcf13"
  },
  {
   "cell_type": "code",
   "execution_count": 5,
   "outputs": [
    {
     "data": {
      "text/plain": "'p1'"
     },
     "execution_count": 5,
     "metadata": {},
     "output_type": "execute_result"
    }
   ],
   "source": [
    "name = input()\n",
    "\n",
    "# 当你输入name = input()并按下回车后，Python交互式命令行就在等待你的输入了。这时，你可以输入任意字符，然后按回车后完成输入。\n",
    "\n",
    "# 输入完成后，不会有任何提示，Python交互式命令行又回到>>>状态了。那我们刚才输入的内容到哪去了？答案是存放到name变量里了。可以直接输入name查看变量内容：\n",
    "\n",
    "name"
   ],
   "metadata": {
    "collapsed": false,
    "ExecuteTime": {
     "end_time": "2023-11-14T02:22:04.816591Z",
     "start_time": "2023-11-14T02:21:59.803774Z"
    }
   },
   "id": "bb6a709303c882a9"
  },
  {
   "cell_type": "markdown",
   "source": [
    "设正方形的边长为a，则正方形的面积为a x a。把边长a看做一个变量，我们就可以根据a的值计算正方形的面积，比如：\n",
    "\n",
    "若a=2，则面积为a x a = 2 x 2 = 4；\n",
    "\n",
    "若a=3.5，则面积为a x a = 3.5 x 3.5 = 12.25。\n",
    "\n",
    "在计算机程序中，变量不仅可以为整数或浮点数，还可以是字符串，因此，name作为一个变量就是一个字符串。\n",
    "\n",
    "要打印出name变量的内容，除了直接写name然后按回车外，还可以用print()函数：\n"
   ],
   "metadata": {
    "collapsed": false
   },
   "id": "892a674ac2816ca3"
  },
  {
   "cell_type": "code",
   "execution_count": 6,
   "outputs": [
    {
     "name": "stdout",
     "output_type": "stream",
     "text": [
      "hello, \n",
      "hello, p1\n"
     ]
    }
   ],
   "source": [
    "name = input()\n",
    "print('hello,', name)\n",
    "\n",
    "# 运行上面的程序，第一行代码会让用户输入任意字符作为自己的名字，然后存入name变量中；第二行代码会根据用户的名字向用户说hello，比如输入Michael：\n",
    "\n",
    "name = input('please enter your name: ')\n",
    "print('hello,', name)\n",
    "\n",
    "# 再次运行这个程序，你会发现，程序一运行，会首先打印出please enter your name:，这样，用户就可以根据提示，输入名字后，得到hello, xxx的输出："
   ],
   "metadata": {
    "collapsed": false,
    "ExecuteTime": {
     "end_time": "2023-11-14T02:22:09.981268Z",
     "start_time": "2023-11-14T02:22:04.720430Z"
    }
   },
   "id": "431ad7d7f96d86b"
  },
  {
   "cell_type": "markdown",
   "source": [
    "小结\n",
    "\n",
    "任何计算机程序都是为了执行一个特定的任务，有了输入，用户才能告诉计算机程序所需的信息，有了输出，程序运行后才能告诉用户任务的结果。\n",
    "\n",
    "输入是Input，输出是Output，因此，我们把输入输出统称为Input/Output，或者简写为IO。\n",
    "\n",
    "input()和print()是在命令行下面最基本的输入和输出，但是，用户也可以通过其他更高级的图形界面完成输入和输出，比如，在网页上的一个文本框输入自己的名字，点击“确定”后在网页上看到输出信息。"
   ],
   "metadata": {
    "collapsed": false
   },
   "id": "4541dc792b544ffe"
  },
  {
   "cell_type": "markdown",
   "source": [
    "## 数据类型\n",
    "\n",
    "计算机顾名思义就是可以做数学计算的机器，因此，计算机程序理所当然地可以处理各种数值。但是，计算机能处理的远不止数值，还可以处理文本、图形、音频、视频、网页等各种各样的数据，不同的数据，需要定义不同的数据类型。在Python中，能够直接处理的数据类型有以下几种：\n",
    "\n",
    "### 整数\n",
    "\n",
    "Python可以处理任意大小的整数，当然包括负整数，在程序中的表示方法和数学上的写法一模一样，例如：1，100，-8080，0，等等。\n",
    "\n",
    "计算机由于使用二进制，所以，有时候用十六进制表示整数比较方便，十六进制用0x前缀和0-9，a-f表示，例如：0xff00，0xa5b4c3d2，等等。\n",
    "\n",
    "对于很大的数，例如10000000000，很难数清楚0的个数。Python允许在数字中间以_分隔，因此，写成10_000_000_000和10000000000是完全一样的。十六进制数也可以写成0xa1b2_c3d4。\n",
    "\n",
    "### 浮点数\n",
    "\n",
    "浮点数也就是小数，之所以称为浮点数，是因为按照科学记数法表示时，一个浮点数的小数点位置是可变的，比如，1.23x109和12.3x108是完全相等的。浮点数可以用数学写法，如1.23，3.14，-9.01，等等。但是对于很大或很小的浮点数，就必须用科学计数法表示，把10用e替代，1.23x109就是1.23e9，或者12.3e8，0.000012可以写成1.2e-5，等等。\n",
    "\n",
    "整数和浮点数在计算机内部存储的方式是不同的，整数运算永远是精确的（除法难道也是精确的？是的！），而浮点数运算则可能会有四舍五入的误差。\n",
    "\n",
    "### 字符串\n",
    "\n",
    "字符串是以单引号'或双引号\"括起来的任意文本，比如'abc'，\"xyz\"等等。请注意，''或\"\"本身只是一种表示方式，不是字符串的一部分，因此，字符串'abc'只有a，b，c这3个字符。如果'本身也是一个字符，那就可以用\"\"括起来，比如\"I'm OK\"包含的字符是I，'，m，空格，O，K这6个字符。\n",
    "\n",
    "如果字符串内部既包含'又包含\"怎么办？可以用转义字符\\来标识，比如：\n",
    "'I\\'m \\\"OK\\\"!'\n",
    "\n",
    "表示的字符串内容是：\n",
    "I'm \"OK\"!\n",
    "\n",
    "转义字符\\可以转义很多字符，比如\\n表示换行，\\t表示制表符，字符\\本身也要转义，所以\\\\表示的字符就是\\，可以在Python的交互式命令行用print()打印字符串看看："
   ],
   "metadata": {
    "collapsed": false
   },
   "id": "f8ccd6939e7b0580"
  },
  {
   "cell_type": "code",
   "execution_count": 8,
   "outputs": [
    {
     "name": "stdout",
     "output_type": "stream",
     "text": [
      "I'm \"OK\"!\n",
      "I'm learning\n",
      "Python.\n",
      "\\\n",
      "\\\n"
     ]
    }
   ],
   "source": [
    "print('I\\'m \\\"OK\\\"!')\n",
    "print('I\\'m learning\\nPython.')\n",
    "print('\\\\\\n\\\\')"
   ],
   "metadata": {
    "collapsed": false,
    "ExecuteTime": {
     "end_time": "2023-11-14T02:23:13.510579Z",
     "start_time": "2023-11-14T02:23:13.499293Z"
    }
   },
   "id": "3b2efb69477c95c2"
  },
  {
   "cell_type": "markdown",
   "source": [
    "如果字符串里面有很多字符都需要转义，就需要加很多\\，为了简化，Python还允许用r''表示''内部的字符串默认不转义，可以自己试试："
   ],
   "metadata": {
    "collapsed": false
   },
   "id": "2b159b8ae6766b2a"
  },
  {
   "cell_type": "code",
   "execution_count": 9,
   "outputs": [
    {
     "name": "stdout",
     "output_type": "stream",
     "text": [
      "\\\t\\\n",
      "\\\\\\t\\\\\n"
     ]
    }
   ],
   "source": [
    "print('\\\\\\t\\\\')\n",
    "# \\       \\\n",
    "print(r'\\\\\\t\\\\')\n",
    "# \\\\\\t\\\\"
   ],
   "metadata": {
    "collapsed": false,
    "ExecuteTime": {
     "end_time": "2023-11-14T02:23:49.400967Z",
     "start_time": "2023-11-14T02:23:49.385631Z"
    }
   },
   "id": "d3e6d420c0387af8"
  },
  {
   "cell_type": "markdown",
   "source": [
    "如果字符串内部有很多换行，用\\n写在一行里不好阅读，为了简化，Python允许用'''...'''的格式表示多行内容，可以自己试试："
   ],
   "metadata": {
    "collapsed": false
   },
   "id": "16e2f35568f7081d"
  },
  {
   "cell_type": "code",
   "execution_count": 11,
   "outputs": [
    {
     "name": "stdout",
     "output_type": "stream",
     "text": [
      "line1\n",
      "line2\n",
      "line3\n"
     ]
    },
    {
     "data": {
      "text/plain": "'\\n上面是在交互式命令行内输入，注意在输入多行内容时，提示符由>>>变为...，提示你可以接着上一行输入，注意...是提示符，不是代码的一部分\\n'"
     },
     "execution_count": 11,
     "metadata": {},
     "output_type": "execute_result"
    }
   ],
   "source": [
    "print('''line1\n",
    "... line2\n",
    "... line3''')\n",
    "\n",
    "\"\"\"\n",
    "上面是在交互式命令行内输入，注意在输入多行内容时，提示符由>>>变为...，提示你可以接着上一行输入，注意...是提示符，不是代码的一部分\n",
    "\"\"\""
   ],
   "metadata": {
    "collapsed": false,
    "ExecuteTime": {
     "end_time": "2023-11-14T02:24:43.425091Z",
     "start_time": "2023-11-14T02:24:43.413686Z"
    }
   },
   "id": "b300df3aa738c174"
  },
  {
   "cell_type": "markdown",
   "source": [
    "当输入完结束符```和括号)后，执行该语句并打印结果。\n",
    "\n",
    "如果写成程序并存为.py文件，就是："
   ],
   "metadata": {
    "collapsed": false
   },
   "id": "5a58537c1480e9a4"
  },
  {
   "cell_type": "code",
   "execution_count": 12,
   "outputs": [
    {
     "name": "stdout",
     "output_type": "stream",
     "text": [
      "line1\n",
      "line2\n",
      "line3\n"
     ]
    }
   ],
   "source": [
    "print('''line1\n",
    "line2\n",
    "line3''')"
   ],
   "metadata": {
    "collapsed": false,
    "ExecuteTime": {
     "end_time": "2023-11-14T02:25:28.020193Z",
     "start_time": "2023-11-14T02:25:28.007245Z"
    }
   },
   "id": "8c620aac561f0676"
  },
  {
   "cell_type": "markdown",
   "source": [
    "多行字符串'''...'''还可以在前面加上r使用"
   ],
   "metadata": {
    "collapsed": false
   },
   "id": "3d361bfda180b338"
  },
  {
   "cell_type": "code",
   "execution_count": 13,
   "outputs": [
    {
     "name": "stdout",
     "output_type": "stream",
     "text": [
      "hello,\\n\n",
      "world\n"
     ]
    }
   ],
   "source": [
    "print(r'''hello,\\n\n",
    "world''')"
   ],
   "metadata": {
    "collapsed": false,
    "ExecuteTime": {
     "end_time": "2023-11-14T02:25:59.677580Z",
     "start_time": "2023-11-14T02:25:59.663666Z"
    }
   },
   "id": "2eea55a45ee2861"
  },
  {
   "cell_type": "markdown",
   "source": [
    "### 布尔值\n",
    "\n",
    "布尔值和布尔代数的表示完全一致，一个布尔值只有True、False两种值，要么是True，要么是False，在Python中，可以直接用True、False表示布尔值（请注意大小写），也可以通过布尔运算计算出来："
   ],
   "metadata": {
    "collapsed": false
   },
   "id": "6a6316a5ca4a27d1"
  },
  {
   "cell_type": "code",
   "execution_count": 15,
   "outputs": [
    {
     "name": "stdout",
     "output_type": "stream",
     "text": [
      "True\n",
      "False\n",
      "True\n",
      "False\n"
     ]
    }
   ],
   "source": [
    "print(True)\n",
    "print(False)\n",
    "print(3 > 2)\n",
    "print(3 > 5)"
   ],
   "metadata": {
    "collapsed": false,
    "ExecuteTime": {
     "end_time": "2023-11-14T02:27:18.465831Z",
     "start_time": "2023-11-14T02:27:18.452829Z"
    }
   },
   "id": "84f9d9a720ee12f3"
  },
  {
   "cell_type": "markdown",
   "source": [
    "布尔值可以用and、or和not运算。\n",
    "\n",
    "and运算是与运算，只有所有都为True，and运算结果才是True："
   ],
   "metadata": {
    "collapsed": false
   },
   "id": "6fa3da329469da51"
  },
  {
   "cell_type": "code",
   "execution_count": 16,
   "outputs": [
    {
     "name": "stdout",
     "output_type": "stream",
     "text": [
      "True\n",
      "False\n",
      "False\n",
      "True\n"
     ]
    }
   ],
   "source": [
    "print(True and True)\n",
    "print(True and False)\n",
    "print(False and False)\n",
    "print(5 > 3 and 3 > 1)"
   ],
   "metadata": {
    "collapsed": false,
    "ExecuteTime": {
     "end_time": "2023-11-14T02:28:22.885127Z",
     "start_time": "2023-11-14T02:28:22.870091Z"
    }
   },
   "id": "b3ab5c47779a771d"
  },
  {
   "cell_type": "markdown",
   "source": [
    "or运算是或运算，只要其中有一个为True，or运算结果就是True："
   ],
   "metadata": {
    "collapsed": false
   },
   "id": "f9a714cedcc2fe11"
  },
  {
   "cell_type": "code",
   "execution_count": 17,
   "outputs": [
    {
     "name": "stdout",
     "output_type": "stream",
     "text": [
      "True\n",
      "True\n",
      "False\n",
      "True\n"
     ]
    }
   ],
   "source": [
    "print(True or True)\n",
    "print(True or False)\n",
    "print(False or False)\n",
    "print(5 > 3 or 1 > 3)"
   ],
   "metadata": {
    "collapsed": false,
    "ExecuteTime": {
     "end_time": "2023-11-14T02:29:22.808777Z",
     "start_time": "2023-11-14T02:29:22.785533Z"
    }
   },
   "id": "f2addfff4944ae0d"
  },
  {
   "cell_type": "markdown",
   "source": [
    "not运算是非运算，它是一个单目运算符，把True变成False，False变成True"
   ],
   "metadata": {
    "collapsed": false
   },
   "id": "f328132c21e39527"
  },
  {
   "cell_type": "code",
   "execution_count": 18,
   "outputs": [
    {
     "name": "stdout",
     "output_type": "stream",
     "text": [
      "False\n",
      "True\n",
      "True\n"
     ]
    }
   ],
   "source": [
    "print(not True)\n",
    "print(not False)\n",
    "print(not 1 > 2)"
   ],
   "metadata": {
    "collapsed": false,
    "ExecuteTime": {
     "end_time": "2023-11-14T02:30:20.406097Z",
     "start_time": "2023-11-14T02:30:20.393571Z"
    }
   },
   "id": "ec39707047917203"
  },
  {
   "cell_type": "markdown",
   "source": [
    "布尔值经常用在条件判断中，比如"
   ],
   "metadata": {
    "collapsed": false
   },
   "id": "1bb6458eca7b3418"
  },
  {
   "cell_type": "code",
   "execution_count": 21,
   "outputs": [
    {
     "name": "stdout",
     "output_type": "stream",
     "text": [
      "adult\n"
     ]
    }
   ],
   "source": [
    "age = eval(input(\"Enter your age: \"))\n",
    "if age >= 18:\n",
    "    print('adult')\n",
    "else:\n",
    "    print('teenager')"
   ],
   "metadata": {
    "collapsed": false,
    "ExecuteTime": {
     "end_time": "2023-11-14T02:33:56.498949Z",
     "start_time": "2023-11-14T02:33:54.169370Z"
    }
   },
   "id": "5533815ced038054"
  },
  {
   "cell_type": "markdown",
   "source": [
    "### 空值\n",
    "\n",
    "空值是Python里一个特殊的值，用None表示。None不能理解为0，因为0是有意义的，而None是一个特殊的空值。\n",
    "\n",
    "**通常用来绑定占位，变量解除绑定**\n",
    "空值和任何其他类型对象进行比较永远返回False\n",
    "\n",
    "此外，Python还提供了列表、字典等多种数据类型，还允许创建自定义数据类型，我们后面会继续讲到。\n",
    "\n",
    "### 变量\n",
    "\n",
    "变量的概念基本上和初中代数的方程变量是一致的，只是在计算机程序中，变量不仅可以是数字，还可以是任意数据类型。\n",
    "\n",
    "变量在程序中就是用一个变量名表示了，变量名必须是大小写英文、数字和_的组合，且不能用数字开头，比如：\n",
    "\n",
    "a = 1\n",
    "变量a是一个整数。\n",
    "\n",
    "t_007 = 'T007'\n",
    "变量t_007是一个字符串。\n",
    "\n",
    "Answer = True\n",
    "变量Answer是一个布尔值True。\n",
    "\n",
    "在Python中，等号=是赋值语句，可以把任意数据类型赋值给变量，同一个变量可以反复赋值，而且可以是不同类型的变量，例如："
   ],
   "metadata": {
    "collapsed": false
   },
   "id": "a4152d5cbe5da2da"
  },
  {
   "cell_type": "code",
   "execution_count": 22,
   "outputs": [
    {
     "name": "stdout",
     "output_type": "stream",
     "text": [
      "123\n",
      "ABC\n"
     ]
    }
   ],
   "source": [
    "a = 123 # a是整数\n",
    "print(a)\n",
    "\n",
    "a = 'ABC' # a变为字符串\n",
    "print(a)"
   ],
   "metadata": {
    "collapsed": false,
    "ExecuteTime": {
     "end_time": "2023-11-14T02:35:00.201036Z",
     "start_time": "2023-11-14T02:35:00.180359Z"
    }
   },
   "id": "fb6e47f07c8c18ea"
  },
  {
   "cell_type": "markdown",
   "source": [
    "这种变量本身类型不固定的语言称之为动态语言，与之对应的是静态语言。静态语言在定义变量时必须指定变量类型，如果赋值的时候类型不匹配，就会报错。例如Java是静态语言，赋值语句如下（// 表示注释）：\n",
    "\n",
    "int a = 123; // a是整数类型变量\n",
    "a = \"ABC\"; // 错误：不能把字符串赋给整型变量\n",
    "\n",
    "和静态语言相比，动态语言更灵活，就是这个原因。\n",
    "请不要把赋值语句的等号等同于数学的等号。比如下面的代码：\n",
    "\n",
    "x = 10\n",
    "x = x + 2\n",
    "\n",
    "如果从数学上理解x = x + 2那无论如何是不成立的，在程序中，赋值语句先计算右侧的表达式x + 2，得到结果12，再赋给变量x。由于x之前的值是10，重新赋值后，x的值变成12。\n",
    "\n",
    "最后，理解变量在计算机内存中的表示也非常重要。当我们写：\n",
    "\n",
    "a = 'ABC'\n",
    "时，Python解释器干了两件事情：\n",
    "\n",
    "1. 在内存中创建了一个'ABC'的字符串；\n",
    "2. 在内存中创建了一个名为a的变量，并把它指向'ABC'。\n",
    "\n",
    "也可以把一个变量a赋值给另一个变量b，这个操作实际上是把变量b指向变量a所指向的数据，例如下面的代码："
   ],
   "metadata": {
    "collapsed": false
   },
   "id": "9a89492741db0e64"
  },
  {
   "cell_type": "code",
   "execution_count": 25,
   "outputs": [
    {
     "name": "stdout",
     "output_type": "stream",
     "text": [
      "ABC\n"
     ]
    }
   ],
   "source": [
    "a = 'ABC'\n",
    "b = a\n",
    "a = 'XYZ'\n",
    "print(b)"
   ],
   "metadata": {
    "collapsed": false,
    "ExecuteTime": {
     "end_time": "2023-11-14T02:37:58.359328Z",
     "start_time": "2023-11-14T02:37:58.346980Z"
    }
   },
   "id": "34a3d302834f61ed"
  },
  {
   "cell_type": "markdown",
   "source": [
    "最后一行打印出变量b的内容到底是'ABC'呢还是'XYZ'？如果从数学意义上理解，就会错误地得出b和a相同，也应该是'XYZ'，但实际上b的值是'ABC'，让我们一行一行地执行代码，就可以看到到底发生了什么事：\n",
    "\n",
    "执行a = 'ABC'，解释器创建了字符串'ABC'和变量a，并把a指向'ABC';\n",
    "执行b = a，解释器创建了变量b，并把b指向a指向的字符串'ABC';\n",
    "执行a = 'XYZ'，解释器创建了字符串'XYZ'，并把a的指向改为'XYZ'，但b并没有更改;"
   ],
   "metadata": {
    "collapsed": false
   },
   "id": "c4420bdd11eed7eb"
  },
  {
   "cell_type": "markdown",
   "source": [
    "### 运算符\n",
    "\n",
    "// 整除\n",
    "% 取余\n",
    "** 幂乘\n",
    "\n",
    "### 复合赋值运算符\n",
    "\n",
    "+= -= *= /= //= %= **=\n",
    "\n",
    "80 > x > 60 # 返回x是否在(60~80)的区间"
   ],
   "metadata": {
    "collapsed": false
   },
   "id": "9a9ec655b7ee5a61"
  },
  {
   "cell_type": "markdown",
   "source": [
    "### 常量\n",
    "所谓常量就是不能变的变量，比如常用的数学常数π就是一个常量。在Python中，通常用**全部大写的变量名**表示常量：\n",
    "\n",
    "PI = 3.14159265359\n",
    "\n",
    "但事实上PI仍然是一个变量，Python根本没有任何机制保证PI不会被改变，所以，用全部大写的变量名表示常量只是一个习惯上的用法，如果你一定要改变变量PI的值，也没人能拦住你。\n",
    "\n",
    "最后解释一下整数的除法为什么也是精确的。在Python中，有两种除法，一种除法是/：\n",
    "\n",
    "10 / 3 =\n",
    "3.3333333333333335\n",
    "/除法计算结果是浮点数，即使是两个整数恰好整除，结果也是浮点数：\n",
    "\n",
    "9 / 3 =\n",
    "3.0\n",
    "还有一种除法是//，称为地板除，两个整数的除法仍然是整数：\n",
    "\n",
    "10 // 3 =\n",
    "3\n",
    "你没有看错，整数的地板除//永远是整数，即使除不尽。要做精确的除法，使用/就可以。"
   ],
   "metadata": {
    "collapsed": false
   },
   "id": "2330e2fc9faa0843"
  },
  {
   "cell_type": "markdown",
   "source": [
    "#### 练习\n",
    "请打印出以下变量的值：\n",
    "n = 123\n",
    "f = 456.789\n",
    "s1 = 'Hello, world'\n",
    "s2 = 'Hello, \\'Adam\\''\n",
    "s3 = r'Hello, \"Bart\"'\n",
    "s4 = r'''Hello,\n",
    "Lisa!'''"
   ],
   "metadata": {
    "collapsed": false
   },
   "id": "f184c401ae43f3e1"
  },
  {
   "cell_type": "code",
   "execution_count": 27,
   "outputs": [
    {
     "name": "stdout",
     "output_type": "stream",
     "text": [
      "n = 123\n",
      "f = 456.789\n",
      "s1 = 'Hello, world'\n",
      "s2 = 'Hello, \\'Adam\\''\n",
      "s3 = r'Hello, \"Bart\"'\n",
      "s4 = r'''Hello,\n",
      "Lisa!'''\n"
     ]
    }
   ],
   "source": [
    "print('n = 123')\n",
    "print('f = 456.789')\n",
    "print('s1 = \\'Hello, world\\'')\n",
    "print('s2 = \\'Hello, \\\\\\'Adam\\\\\\'\\'')\n",
    "print('s3 = r\\'Hello, \\\"Bart\\\"\\'')\n",
    "print('s4 = r\\'\\'\\'Hello,')\n",
    "print(\"Lisa!\\'\\'\\'\")"
   ],
   "metadata": {
    "collapsed": false,
    "ExecuteTime": {
     "end_time": "2023-11-14T02:45:15.451588Z",
     "start_time": "2023-11-14T02:45:15.437253Z"
    }
   },
   "id": "b2e56bc147267df4"
  },
  {
   "cell_type": "markdown",
   "source": [
    "### 小结\n",
    "\n",
    "Python支持多种数据类型，在计算机内部，可以把任何数据都看成一个“对象”，而变量就是在程序中用来指向这些数据对象的，对变量赋值就是把数据和变量给关联起来。\n",
    "\n",
    "对变量赋值x = y是把变量x指向真正的对象，该对象是变量y所指向的。随后对变量y的赋值不影响变量x的指向。\n",
    "\n",
    "注意：Python的整数没有大小限制，而某些语言的整数根据其存储长度是有大小限制的，例如Java对32位整数的范围限制在-2147483648-2147483647。\n",
    "\n",
    "Python的浮点数也没有大小限制，但是超出一定范围就直接表示为inf（无限大）。"
   ],
   "metadata": {
    "collapsed": false
   },
   "id": "db99d21e25260e43"
  },
  {
   "cell_type": "markdown",
   "source": [
    "### 赋值运算符\n",
    "\n",
    "语法格式： 变量名 = 表达式\n",
    "作用：\n",
    "1. 当没有此变量时，创建一个变量，同时将变量绑定到这个对象上\n",
    "2. 当变量存在时，改变此变量关联的对象\n",
    "3. 用变量名访问此变量关联的对象\n",
    "\n",
    "说明：\n",
    "用变量可以访问它绑定的对象\n",
    "两个变量可以同时绑定同一个对象"
   ],
   "metadata": {
    "collapsed": false
   },
   "id": "cf40feed51c99483"
  },
  {
   "cell_type": "code",
   "execution_count": 28,
   "outputs": [
    {
     "name": "stdout",
     "output_type": "stream",
     "text": [
      "[1, 2, 3, 4]\n",
      "[1, 2, 3, 4]\n",
      "[100, 2, 3, 4]\n",
      "[100, 2, 3, 4]\n"
     ]
    }
   ],
   "source": [
    "a = [1, 2, 3, 4]\n",
    "print(a)\n",
    "b = a   # b 和 a 同时绑定一个对象\n",
    "print(b)\n",
    "a[0] = 100  # 通过 a 对对象进行更改\n",
    "print(a)\n",
    "print(b)"
   ],
   "metadata": {
    "collapsed": false,
    "ExecuteTime": {
     "end_time": "2023-11-14T02:56:42.712075Z",
     "start_time": "2023-11-14T02:56:42.696474Z"
    }
   },
   "id": "9d1f01b377a25e8"
  },
  {
   "cell_type": "markdown",
   "source": [
    "### is / is not 运算符\n",
    "\n",
    "is 作用：\n",
    "判断两个变量是否绑定同一个对象，当绑定同一个对象时返回True，否则返回False\n",
    "\n",
    "语法：\n",
    "x is y\n",
    "x is not y"
   ],
   "metadata": {
    "collapsed": false
   },
   "id": "4fb1c3d84c6fa3c6"
  },
  {
   "cell_type": "markdown",
   "source": [
    "### del 运算符\n",
    "\n",
    "作用： \n",
    "用于删除变量，同时解除与对象的关联，如果可能则释入对象\n",
    "\n",
    "语法：\n",
    "del 变量名1，变量名2，..."
   ],
   "metadata": {
    "collapsed": false
   },
   "id": "c3a606a9b7edd2c2"
  },
  {
   "cell_type": "code",
   "execution_count": null,
   "outputs": [],
   "source": [
    "a = 100\n",
    "b = 200\n",
    "# a = None\n",
    "del a"
   ],
   "metadata": {
    "collapsed": false
   },
   "id": "2b5236f845dc570a"
  },
  {
   "cell_type": "markdown",
   "source": [
    "### help \n",
    "\n",
    "在交互模式下查看当前作用域的所有变量\n",
    "help(\"__main__\")"
   ],
   "metadata": {
    "collapsed": false
   },
   "id": "a4f70d0ef2c156ff"
  },
  {
   "cell_type": "markdown",
   "source": [
    "### 生成对象的函数\n",
    "\n",
    "float(obj)  用于字符串或数字转换为浮点数，如果不给参数，则返回0.0\n",
    "int(x[, base = 10]) 用数字或字符串转换为整数，如果不给出参数，则返回0\n",
    "complex(r = 0.0, i = 0.0)   用于生成一个复数\n",
    "bool(x) 用x生成一个布尔值\n",
    "str(obj='') 用对象转换为字符串\n",
    "\n",
    "\"\"  空字符串\n",
    "()  空元组\n",
    "[]  空列表\n",
    "{}  空字典\n",
    "set()   空集合\n",
    "\n",
    "abs()   绝对值\n",
    "round(number[,ndigits]) 四舍五入，ndigits 小数向右取整的位数，当ndigits为负数时，它表示要将数字舍入到左边的整数位数 \n",
    "pow(x, y, z=None)   相当于 x**y 或 x**y % z"
   ],
   "metadata": {
    "collapsed": false
   },
   "id": "82da764185fd69c8"
  },
  {
   "cell_type": "code",
   "execution_count": 31,
   "outputs": [
    {
     "name": "stdout",
     "output_type": "stream",
     "text": [
      "123.5\n",
      "123.46\n",
      "123.456\n",
      "123.0\n",
      "120.0\n",
      "100.0\n",
      "0.0\n"
     ]
    }
   ],
   "source": [
    "print(round(123.456, 1))\n",
    "print(round(123.456, 2))\n",
    "print(round(123.456, 3))\n",
    "print(round(123.456, 0))\n",
    "print(round(123.456, -1))\n",
    "print(round(123.456, -2))\n",
    "print(round(123.456, -3))"
   ],
   "metadata": {
    "collapsed": false,
    "ExecuteTime": {
     "end_time": "2023-11-14T03:17:38.692604Z",
     "start_time": "2023-11-14T03:17:38.668348Z"
    }
   },
   "id": "3343c6bc5aa6df00"
  },
  {
   "cell_type": "markdown",
   "source": [
    "### 帮助文档"
   ],
   "metadata": {
    "collapsed": false
   },
   "id": "653d8446291a5065"
  },
  {
   "cell_type": "code",
   "execution_count": 32,
   "outputs": [
    {
     "name": "stdout",
     "output_type": "stream",
     "text": [
      "Help on built-in module sys:\n",
      "\n",
      "NAME\n",
      "    sys\n",
      "\n",
      "MODULE REFERENCE\n",
      "    https://docs.python.org/3.8/library/sys\n",
      "    \n",
      "    The following documentation is automatically generated from the Python\n",
      "    source files.  It may be incomplete, incorrect or include features that\n",
      "    are considered implementation detail and may vary between Python\n",
      "    implementations.  When in doubt, consult the module reference at the\n",
      "    location listed above.\n",
      "\n",
      "DESCRIPTION\n",
      "    This module provides access to some objects used or maintained by the\n",
      "    interpreter and to functions that interact strongly with the interpreter.\n",
      "    \n",
      "    Dynamic objects:\n",
      "    \n",
      "    argv -- command line arguments; argv[0] is the script pathname if known\n",
      "    path -- module search path; path[0] is the script directory, else ''\n",
      "    modules -- dictionary of loaded modules\n",
      "    \n",
      "    displayhook -- called to show results in an interactive session\n",
      "    excepthook -- called to handle any uncaught exception other than SystemExit\n",
      "      To customize printing in an interactive session or to install a custom\n",
      "      top-level exception handler, assign other functions to replace these.\n",
      "    \n",
      "    stdin -- standard input file object; used by input()\n",
      "    stdout -- standard output file object; used by print()\n",
      "    stderr -- standard error object; used for error messages\n",
      "      By assigning other file objects (or objects that behave like files)\n",
      "      to these, it is possible to redirect all of the interpreter's I/O.\n",
      "    \n",
      "    last_type -- type of last uncaught exception\n",
      "    last_value -- value of last uncaught exception\n",
      "    last_traceback -- traceback of last uncaught exception\n",
      "      These three are only available in an interactive session after a\n",
      "      traceback has been printed.\n",
      "    \n",
      "    Static objects:\n",
      "    \n",
      "    builtin_module_names -- tuple of module names built into this interpreter\n",
      "    copyright -- copyright notice pertaining to this interpreter\n",
      "    exec_prefix -- prefix used to find the machine-specific Python library\n",
      "    executable -- absolute path of the executable binary of the Python interpreter\n",
      "    float_info -- a named tuple with information about the float implementation.\n",
      "    float_repr_style -- string indicating the style of repr() output for floats\n",
      "    hash_info -- a named tuple with information about the hash algorithm.\n",
      "    hexversion -- version information encoded as a single integer\n",
      "    implementation -- Python implementation information.\n",
      "    int_info -- a named tuple with information about the int implementation.\n",
      "    maxsize -- the largest supported length of containers.\n",
      "    maxunicode -- the value of the largest Unicode code point\n",
      "    platform -- platform identifier\n",
      "    prefix -- prefix used to find the Python library\n",
      "    thread_info -- a named tuple with information about the thread implementation.\n",
      "    version -- the version of this interpreter as a string\n",
      "    version_info -- version information as a named tuple\n",
      "    __stdin__ -- the original stdin; don't touch!\n",
      "    __stdout__ -- the original stdout; don't touch!\n",
      "    __stderr__ -- the original stderr; don't touch!\n",
      "    __displayhook__ -- the original displayhook; don't touch!\n",
      "    __excepthook__ -- the original excepthook; don't touch!\n",
      "    \n",
      "    Functions:\n",
      "    \n",
      "    displayhook() -- print an object to the screen, and save it in builtins._\n",
      "    excepthook() -- print an exception and its traceback to sys.stderr\n",
      "    exc_info() -- return thread-safe information about the current exception\n",
      "    exit() -- exit the interpreter by raising SystemExit\n",
      "    getdlopenflags() -- returns flags to be used for dlopen() calls\n",
      "    getprofile() -- get the global profiling function\n",
      "    getrefcount() -- return the reference count for an object (plus one :-)\n",
      "    getrecursionlimit() -- return the max recursion depth for the interpreter\n",
      "    getsizeof() -- return the size of an object in bytes\n",
      "    gettrace() -- get the global debug tracing function\n",
      "    setcheckinterval() -- control how often the interpreter checks for events\n",
      "    setdlopenflags() -- set the flags to be used for dlopen() calls\n",
      "    setprofile() -- set the global profiling function\n",
      "    setrecursionlimit() -- set the max recursion depth for the interpreter\n",
      "    settrace() -- set the global debug tracing function\n",
      "\n",
      "FUNCTIONS\n",
      "    __breakpointhook__ = breakpointhook(...)\n",
      "        breakpointhook(*args, **kws)\n",
      "        \n",
      "        This hook function is called by built-in breakpoint().\n",
      "    \n",
      "    __displayhook__ = displayhook(object, /)\n",
      "        Print an object to sys.stdout and also save it in builtins._\n",
      "    \n",
      "    __excepthook__ = excepthook(exctype, value, traceback, /)\n",
      "        Handle an exception by displaying it with a traceback on sys.stderr.\n",
      "    \n",
      "    __unraisablehook__ = unraisablehook(unraisable, /)\n",
      "        Handle an unraisable exception.\n",
      "        \n",
      "        The unraisable argument has the following attributes:\n",
      "        \n",
      "        * exc_type: Exception type.\n",
      "        * exc_value: Exception value, can be None.\n",
      "        * exc_traceback: Exception traceback, can be None.\n",
      "        * err_msg: Error message, can be None.\n",
      "        * object: Object causing the exception, can be None.\n",
      "    \n",
      "    addaudithook(hook)\n",
      "        Adds a new audit hook callback.\n",
      "    \n",
      "    audit(...)\n",
      "        audit(event, *args)\n",
      "        \n",
      "        Passes the event to any audit hooks that are attached.\n",
      "    \n",
      "    call_tracing(func, args, /)\n",
      "        Call func(*args), while tracing is enabled.\n",
      "        \n",
      "        The tracing state is saved, and restored afterwards.  This is intended\n",
      "        to be called from a debugger from a checkpoint, to recursively debug\n",
      "        some other code.\n",
      "    \n",
      "    callstats()\n",
      "        Return a tuple of function call statistics.\n",
      "        \n",
      "        A tuple is returned only if CALL_PROFILE was defined when Python was\n",
      "        built.  Otherwise, this returns None.\n",
      "        \n",
      "        When enabled, this function returns detailed, implementation-specific\n",
      "        details about the number of function calls executed. The return value\n",
      "        is a 11-tuple where the entries in the tuple are counts of:\n",
      "        0. all function calls\n",
      "        1. calls to PyFunction_Type objects\n",
      "        2. PyFunction calls that do not create an argument tuple\n",
      "        3. PyFunction calls that do not create an argument tuple\n",
      "           and bypass PyEval_EvalCodeEx()\n",
      "        4. PyMethod calls\n",
      "        5. PyMethod calls on bound methods\n",
      "        6. PyType calls\n",
      "        7. PyCFunction calls\n",
      "        8. generator calls\n",
      "        9. All other calls\n",
      "        10. Number of stack pops performed by call_function()\n",
      "    \n",
      "    exc_info()\n",
      "        Return current exception information: (type, value, traceback).\n",
      "        \n",
      "        Return information about the most recent exception caught by an except\n",
      "        clause in the current stack frame or in an older stack frame.\n",
      "    \n",
      "    exit(status=None, /)\n",
      "        Exit the interpreter by raising SystemExit(status).\n",
      "        \n",
      "        If the status is omitted or None, it defaults to zero (i.e., success).\n",
      "        If the status is an integer, it will be used as the system exit status.\n",
      "        If it is another kind of object, it will be printed and the system\n",
      "        exit status will be one (i.e., failure).\n",
      "    \n",
      "    get_asyncgen_hooks()\n",
      "        Return the installed asynchronous generators hooks.\n",
      "        \n",
      "        This returns a namedtuple of the form (firstiter, finalizer).\n",
      "    \n",
      "    get_coroutine_origin_tracking_depth()\n",
      "        Check status of origin tracking for coroutine objects in this thread.\n",
      "    \n",
      "    get_int_max_str_digits()\n",
      "        Set the maximum string digits limit for non-binary int<->str conversions.\n",
      "    \n",
      "    getallocatedblocks()\n",
      "        Return the number of memory blocks currently allocated.\n",
      "    \n",
      "    getcheckinterval()\n",
      "        Return the current check interval; see sys.setcheckinterval().\n",
      "    \n",
      "    getdefaultencoding()\n",
      "        Return the current default encoding used by the Unicode implementation.\n",
      "    \n",
      "    getdlopenflags()\n",
      "        Return the current value of the flags that are used for dlopen calls.\n",
      "        \n",
      "        The flag constants are defined in the os module.\n",
      "    \n",
      "    getfilesystemencodeerrors()\n",
      "        Return the error mode used Unicode to OS filename conversion.\n",
      "    \n",
      "    getfilesystemencoding()\n",
      "        Return the encoding used to convert Unicode filenames to OS filenames.\n",
      "    \n",
      "    getprofile()\n",
      "        Return the profiling function set with sys.setprofile.\n",
      "        \n",
      "        See the profiler chapter in the library manual.\n",
      "    \n",
      "    getrecursionlimit()\n",
      "        Return the current value of the recursion limit.\n",
      "        \n",
      "        The recursion limit is the maximum depth of the Python interpreter\n",
      "        stack.  This limit prevents infinite recursion from causing an overflow\n",
      "        of the C stack and crashing Python.\n",
      "    \n",
      "    getrefcount(object, /)\n",
      "        Return the reference count of object.\n",
      "        \n",
      "        The count returned is generally one higher than you might expect,\n",
      "        because it includes the (temporary) reference as an argument to\n",
      "        getrefcount().\n",
      "    \n",
      "    getsizeof(...)\n",
      "        getsizeof(object [, default]) -> int\n",
      "        \n",
      "        Return the size of object in bytes.\n",
      "    \n",
      "    getswitchinterval()\n",
      "        Return the current thread switch interval; see sys.setswitchinterval().\n",
      "    \n",
      "    gettrace()\n",
      "        Return the global debug tracing function set with sys.settrace.\n",
      "        \n",
      "        See the debugger chapter in the library manual.\n",
      "    \n",
      "    intern(string, /)\n",
      "        ``Intern'' the given string.\n",
      "        \n",
      "        This enters the string in the (global) table of interned strings whose\n",
      "        purpose is to speed up dictionary lookups. Return the string itself or\n",
      "        the previously interned string object with the same value.\n",
      "    \n",
      "    is_finalizing()\n",
      "        Return True if Python is exiting.\n",
      "    \n",
      "    set_asyncgen_hooks(...)\n",
      "        set_asyncgen_hooks(* [, firstiter] [, finalizer])\n",
      "        \n",
      "        Set a finalizer for async generators objects.\n",
      "    \n",
      "    set_coroutine_origin_tracking_depth(depth)\n",
      "        Enable or disable origin tracking for coroutine objects in this thread.\n",
      "        \n",
      "        Coroutine objects will track 'depth' frames of traceback information\n",
      "        about where they came from, available in their cr_origin attribute.\n",
      "        \n",
      "        Set a depth of 0 to disable.\n",
      "    \n",
      "    set_int_max_str_digits(maxdigits)\n",
      "        Set the maximum string digits limit for non-binary int<->str conversions.\n",
      "    \n",
      "    setcheckinterval(n, /)\n",
      "        Set the async event check interval to n instructions.\n",
      "        \n",
      "        This tells the Python interpreter to check for asynchronous events\n",
      "        every n instructions.\n",
      "        \n",
      "        This also affects how often thread switches occur.\n",
      "    \n",
      "    setdlopenflags(flags, /)\n",
      "        Set the flags used by the interpreter for dlopen calls.\n",
      "        \n",
      "        This is used, for example, when the interpreter loads extension\n",
      "        modules. Among other things, this will enable a lazy resolving of\n",
      "        symbols when importing a module, if called as sys.setdlopenflags(0).\n",
      "        To share symbols across extension modules, call as\n",
      "        sys.setdlopenflags(os.RTLD_GLOBAL).  Symbolic names for the flag\n",
      "        modules can be found in the os module (RTLD_xxx constants, e.g.\n",
      "        os.RTLD_LAZY).\n",
      "    \n",
      "    setprofile(...)\n",
      "        setprofile(function)\n",
      "        \n",
      "        Set the profiling function.  It will be called on each function call\n",
      "        and return.  See the profiler chapter in the library manual.\n",
      "    \n",
      "    setrecursionlimit(limit, /)\n",
      "        Set the maximum depth of the Python interpreter stack to n.\n",
      "        \n",
      "        This limit prevents infinite recursion from causing an overflow of the C\n",
      "        stack and crashing Python.  The highest possible limit is platform-\n",
      "        dependent.\n",
      "    \n",
      "    setswitchinterval(interval, /)\n",
      "        Set the ideal thread switching delay inside the Python interpreter.\n",
      "        \n",
      "        The actual frequency of switching threads can be lower if the\n",
      "        interpreter executes long sequences of uninterruptible code\n",
      "        (this is implementation-specific and workload-dependent).\n",
      "        \n",
      "        The parameter must represent the desired switching delay in seconds\n",
      "        A typical value is 0.005 (5 milliseconds).\n",
      "    \n",
      "    settrace(...)\n",
      "        settrace(function)\n",
      "        \n",
      "        Set the global debug tracing function.  It will be called on each\n",
      "        function call.  See the debugger chapter in the library manual.\n",
      "    \n",
      "    unraisablehook(unraisable, /)\n",
      "        Handle an unraisable exception.\n",
      "        \n",
      "        The unraisable argument has the following attributes:\n",
      "        \n",
      "        * exc_type: Exception type.\n",
      "        * exc_value: Exception value, can be None.\n",
      "        * exc_traceback: Exception traceback, can be None.\n",
      "        * err_msg: Error message, can be None.\n",
      "        * object: Object causing the exception, can be None.\n",
      "\n",
      "DATA\n",
      "    __stderr__ = <_io.TextIOWrapper name='<stderr>' mode='w' encoding='utf...\n",
      "    __stdin__ = <_io.TextIOWrapper name='<stdin>' mode='r' encoding='utf-8...\n",
      "    __stdout__ = <_io.TextIOWrapper name='<stdout>' mode='w' encoding='utf...\n",
      "    abiflags = ''\n",
      "    api_version = 1013\n",
      "    argv = ['/Users/labixiaoxin/anaconda3/envs/tensorflow/lib/python3.8/si...\n",
      "    base_exec_prefix = '/Users/labixiaoxin/anaconda3/envs/tensorflow'\n",
      "    base_prefix = '/Users/labixiaoxin/anaconda3/envs/tensorflow'\n",
      "    builtin_module_names = ('_abc', '_ast', '_codecs', '_collections', '_f...\n",
      "    byteorder = 'little'\n",
      "    copyright = 'Copyright (c) 2001-2022 Python Software Foundati...ematis...\n",
      "    displayhook = <ipykernel.displayhook.ZMQShellDisplayHook object>\n",
      "    dont_write_bytecode = True\n",
      "    exec_prefix = '/Users/labixiaoxin/anaconda3/envs/tensorflow'\n",
      "    executable = '/Users/labixiaoxin/anaconda3/envs/tensorflow/bin/python'\n",
      "    flags = sys.flags(debug=0, inspect=0, interactive=0, opt...v_mode=Fals...\n",
      "    float_info = sys.float_info(max=1.7976931348623157e+308, max_...epsilo...\n",
      "    float_repr_style = 'short'\n",
      "    hash_info = sys.hash_info(width=64, modulus=2305843009213693...iphash2...\n",
      "    hexversion = 50860272\n",
      "    implementation = namespace(_multiarch='darwin', cache_tag='cpytho...no...\n",
      "    int_info = sys.int_info(bits_per_digit=30, sizeof_digit=4, ..._str_dig...\n",
      "    last_value = SyntaxError('invalid syntax', ('/var/folders/h5/...013665...\n",
      "    maxsize = 9223372036854775807\n",
      "    maxunicode = 1114111\n",
      "    meta_path = [<_distutils_hack.DistutilsMetaFinder object>, <class '_fr...\n",
      "    modules = {'IPython': <module 'IPython' from '/Users/labixiaoxin/anaco...\n",
      "    path = ['/Applications/PyCharm.app/Contents/plugins/python/helpers-pro...\n",
      "    path_hooks = [<class 'zipimport.zipimporter'>, <function FileFinder.pa...\n",
      "    path_importer_cache = {'/Applications/PyCharm.app/Contents/plugins/pyt...\n",
      "    platform = 'darwin'\n",
      "    prefix = '/Users/labixiaoxin/anaconda3/envs/tensorflow'\n",
      "    ps1 = 'In : '\n",
      "    ps2 = '...: '\n",
      "    ps3 = 'Out: '\n",
      "    pycache_prefix = None\n",
      "    stderr = <ipykernel.iostream.OutStream object>\n",
      "    stdin = <_io.TextIOWrapper name='<stdin>' mode='r' encoding='utf-8'>\n",
      "    stdout = <ipykernel.iostream.OutStream object>\n",
      "    thread_info = sys.thread_info(name='pthread', lock='mutex+cond', versi...\n",
      "    version = '3.8.16 (default, Mar  1 2023, 21:19:10) \\n[Clang 14.0.6 ]'\n",
      "    version_info = sys.version_info(major=3, minor=8, micro=16, releaselev...\n",
      "    warnoptions = []\n",
      "\n",
      "FILE\n",
      "    (built-in)\n"
     ]
    }
   ],
   "source": [
    "import sys\n",
    "help(sys)"
   ],
   "metadata": {
    "collapsed": false,
    "ExecuteTime": {
     "end_time": "2023-11-14T03:18:29.501081Z",
     "start_time": "2023-11-14T03:18:29.484318Z"
    }
   },
   "id": "1e13cb4608363609"
  },
  {
   "cell_type": "markdown",
   "source": [
    "### 语句\n",
    "\n",
    "多条语句写在一行需要用分号(;)隔开\n",
    "print(1); x = 1 + 2\n",
    "\n",
    "折行符 \\ (反斜线)\n",
    "折行符必须放在这一行的末尾，来示意解释器，下一行也是本行的语句\n",
    "\n",
    "隐式换行\n",
    "所有括号内容的换行\n",
    "print(a+\n",
    "b)"
   ],
   "metadata": {
    "collapsed": false
   },
   "id": "a3b3288a04fdeaaa"
  },
  {
   "cell_type": "markdown",
   "source": [
    "### 常见关键词示意\n",
    "\n",
    "sep : 两个值之间的分隔符，默认为一个空格\n",
    "end : 输出完毕后在流末尾自动追加一个字符串，默认为换行符\n",
    "flush : 是否立即将流进行输出\n",
    "file : 流对象，默认为sys.stdout"
   ],
   "metadata": {
    "collapsed": false
   },
   "id": "82d8af7f0d7290ad"
  },
  {
   "cell_type": "markdown",
   "source": [
    "### if语句\n",
    "\n",
    "语法：\n",
    "if exp1:\n",
    "    sentence1\n",
    "elif exp2:\n",
    "    sentence2\n",
    "elif exp3:\n",
    "    ...\n",
    "else:\n",
    "    sentencen\n",
    "    \n",
    "高级语法：\n",
    "sentence1 if exp1 else exp2\n",
    "如果exp1返回True，则sentence1返回exp1，否则返回exp2\n",
    "取绝对值：\n",
    "x = x if x > 0 else -x\n",
    "\n",
    "pass语句：用来填补语法的空白，硬件上占了一个时钟周期"
   ],
   "metadata": {
    "collapsed": false
   },
   "id": "b4df48e659ab5fd6"
  },
  {
   "cell_type": "code",
   "execution_count": null,
   "outputs": [],
   "source": [
    "# 注意:\n",
    "# input()返回的是字符串\n",
    "# 必须通过int()将字符串转换为整数\n",
    "# 才能用于数值比较:\n",
    "age = int(input('Input your age: '))\n",
    "\n",
    "if age >= 18:\n",
    "    print('adult')\n",
    "elif age >= 6:\n",
    "    print('teenager')\n",
    "else:\n",
    "    print('kid')"
   ],
   "metadata": {
    "collapsed": false
   },
   "id": "fc4a797f196a8663"
  },
  {
   "cell_type": "markdown",
   "source": [],
   "metadata": {
    "collapsed": false
   },
   "id": "72440f7e925caad"
  },
  {
   "cell_type": "markdown",
   "source": [],
   "metadata": {
    "collapsed": false
   },
   "id": "73596da7f027198d"
  }
 ],
 "metadata": {
  "kernelspec": {
   "display_name": "Python 3",
   "language": "python",
   "name": "python3"
  },
  "language_info": {
   "codemirror_mode": {
    "name": "ipython",
    "version": 2
   },
   "file_extension": ".py",
   "mimetype": "text/x-python",
   "name": "python",
   "nbconvert_exporter": "python",
   "pygments_lexer": "ipython2",
   "version": "2.7.6"
  }
 },
 "nbformat": 4,
 "nbformat_minor": 5
}
